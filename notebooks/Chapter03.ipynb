{
  "cells": [
    {
      "cell_type": "markdown",
      "metadata": {},
      "source": [
        "# Chapter 3 - Controlling Flow and Converting Types"
      ]
    },
    {
      "cell_type": "code",
      "execution_count": 1,
      "metadata": {
        "dotnet_interactive": {
          "language": "csharp"
        }
      },
      "source": [
        "using static System.Console;"
      ],
      "outputs": []
    },
    {
      "cell_type": "markdown",
      "metadata": {},
      "source": [
        "## Exploring unary operators"
      ]
    },
    {
      "cell_type": "code",
      "execution_count": 1,
      "metadata": {
        "dotnet_interactive": {
          "language": "csharp"
        }
      },
      "source": [
        "int a = 3; \n",
        "int b = a++;\n",
        "WriteLine($\"a is {a}, b is {b}\");\n",
        "\n",
        "int c = 3;\n",
        "int d = ++c; // increment c before assigning it\n",
        "WriteLine($\"c is {c}, d is {d}\");"
      ],
      "outputs": [
        {
          "output_type": "execute_result",
          "data": {
            "text/plain": "a is 4, b is 3\n"
          },
          "execution_count": 1,
          "metadata": {}
        },
        {
          "output_type": "execute_result",
          "data": {
            "text/plain": "c is 4, d is 4\n"
          },
          "execution_count": 1,
          "metadata": {}
        }
      ]
    },
    {
      "cell_type": "markdown",
      "metadata": {},
      "source": [
        "## Exploring binary arithmetic operators"
      ]
    },
    {
      "cell_type": "code",
      "execution_count": 1,
      "metadata": {
        "dotnet_interactive": {
          "language": "csharp"
        }
      },
      "source": [
        "int e = 11; \n",
        "int f = 3;\n",
        "WriteLine($\"e is {e}, f is {f}\"); \n",
        "WriteLine($\"e + f = {e + f}\"); \n",
        "WriteLine($\"e - f = {e - f}\"); \n",
        "WriteLine($\"e * f = {e * f}\"); \n",
        "WriteLine($\"e / f = {e / f}\"); \n",
        "WriteLine($\"e % f = {e % f}\");\n",
        "\n",
        "double g = 11.0;\n",
        "WriteLine($\"g is {g:N1}, f is {f}\"); \n",
        "WriteLine($\"g / f = {g / f}\");"
      ],
      "outputs": [
        {
          "output_type": "execute_result",
          "data": {
            "text/plain": "e is 11, f is 3\n"
          },
          "execution_count": 1,
          "metadata": {}
        },
        {
          "output_type": "execute_result",
          "data": {
            "text/plain": "e + f = 14\n"
          },
          "execution_count": 1,
          "metadata": {}
        },
        {
          "output_type": "execute_result",
          "data": {
            "text/plain": "e - f = 8\n"
          },
          "execution_count": 1,
          "metadata": {}
        },
        {
          "output_type": "execute_result",
          "data": {
            "text/plain": "e * f = 33\n"
          },
          "execution_count": 1,
          "metadata": {}
        },
        {
          "output_type": "execute_result",
          "data": {
            "text/plain": "e / f = 3\n"
          },
          "execution_count": 1,
          "metadata": {}
        },
        {
          "output_type": "execute_result",
          "data": {
            "text/plain": "e % f = 2\n"
          },
          "execution_count": 1,
          "metadata": {}
        },
        {
          "output_type": "execute_result",
          "data": {
            "text/plain": "g is 11.0, f is 3\n"
          },
          "execution_count": 1,
          "metadata": {}
        },
        {
          "output_type": "execute_result",
          "data": {
            "text/plain": "g / f = 3.6666666666666665\n"
          },
          "execution_count": 1,
          "metadata": {}
        }
      ]
    },
    {
      "cell_type": "markdown",
      "metadata": {},
      "source": [
        "## Bitwise and binary shift operators"
      ]
    },
    {
      "cell_type": "code",
      "execution_count": 1,
      "metadata": {
        "dotnet_interactive": {
          "language": "csharp"
        }
      },
      "source": [
        "int a = 10; // 0000 1010\n",
        "int b = 6;\t// 0000 0110\n",
        "WriteLine($\"a = {a}\");\n",
        "WriteLine($\"b = {b}\");\n",
        "WriteLine($\"a & b = {a & b}\"); // 2-bit column only \n",
        "WriteLine($\"a | b = {a | b}\"); // 8, 4, and 2-bit columns \n",
        "WriteLine($\"a ^ b = {a ^ b}\"); // 8 and 4-bit columns"
      ],
      "outputs": [
        {
          "output_type": "execute_result",
          "data": {
            "text/plain": "a = 10\n"
          },
          "execution_count": 1,
          "metadata": {}
        },
        {
          "output_type": "execute_result",
          "data": {
            "text/plain": "b = 6\n"
          },
          "execution_count": 1,
          "metadata": {}
        },
        {
          "output_type": "execute_result",
          "data": {
            "text/plain": "a & b = 2\n"
          },
          "execution_count": 1,
          "metadata": {}
        },
        {
          "output_type": "execute_result",
          "data": {
            "text/plain": "a | b = 14\n"
          },
          "execution_count": 1,
          "metadata": {}
        },
        {
          "output_type": "execute_result",
          "data": {
            "text/plain": "a ^ b = 12\n"
          },
          "execution_count": 1,
          "metadata": {}
        }
      ]
    },
    {
      "cell_type": "markdown",
      "metadata": {},
      "source": [
        "## Exploring logical operators"
      ]
    },
    {
      "cell_type": "code",
      "execution_count": 1,
      "metadata": {
        "dotnet_interactive": {
          "language": "csharp"
        }
      },
      "source": [
        "bool a = true;\n",
        "bool b = false;\n",
        "WriteLine($\"AND  | a     | b    \");\n",
        "WriteLine($\"a    | {a & a,-5} | {a & b,-5} \");\n",
        "WriteLine($\"b    | {b & a,-5} | {b & b,-5} \");\n",
        "WriteLine();\n",
        "WriteLine($\"OR   | a     | b    \");\n",
        "WriteLine($\"a    | {a | a,-5} | {a | b,-5} \");\n",
        "WriteLine($\"b    | {b | a,-5} | {b | b,-5} \");\n",
        "WriteLine();\n",
        "WriteLine($\"XOR  | a     | b    \");\n",
        "WriteLine($\"a    | {a ^ a,-5} | {a ^ b,-5} \");\n",
        "WriteLine($\"b    | {b ^ a,-5} | {b ^ b,-5} \");\n",
        "\n",
        "WriteLine($\"a & DoStuff() = {a & DoStuff()}\"); \n",
        "WriteLine($\"b & DoStuff() = {b & DoStuff()}\");"
      ],
      "outputs": [
        {
          "output_type": "error",
          "ename": "Error",
          "evalue": "[object Object]",
          "traceback": []
        }
      ]
    },
    {
      "cell_type": "code",
      "execution_count": 1,
      "metadata": {
        "dotnet_interactive": {
          "language": "csharp"
        }
      },
      "source": [
        "private static bool DoStuff()\n",
        "{\n",
        "  WriteLine(\"I am doing some stuff.\"); \n",
        "  return true;\n",
        "}"
      ],
      "outputs": []
    },
    {
      "cell_type": "markdown",
      "metadata": {},
      "source": [
        "## Branching with the if statement"
      ]
    },
    {
      "cell_type": "code",
      "execution_count": 1,
      "metadata": {
        "dotnet_interactive": {
          "language": "csharp"
        }
      },
      "source": [
        "string password = \"ninja\";\n",
        "\n",
        "if (password.Length < 8)\n",
        "{\n",
        "  WriteLine(\"Your password is too short. Use at least 8 characters.\");\n",
        "}\n",
        "else\n",
        "{\n",
        "  WriteLine(\"Your password is strong.\");\n",
        "}"
      ],
      "outputs": []
    },
    {
      "cell_type": "markdown",
      "metadata": {},
      "source": [
        "## Pattern matching with the if statement"
      ]
    },
    {
      "cell_type": "code",
      "execution_count": 1,
      "metadata": {
        "dotnet_interactive": {
          "language": "csharp"
        }
      },
      "source": [
        "// add and remove the \"\" to change the behavior\n",
        "object o = 3; \n",
        "int j = 4;\n",
        "\n",
        "if (o is int i)\n",
        "{\n",
        "  WriteLine($\"{i} x {j} = {i * j}\");\n",
        "}\n",
        "else\n",
        "{\n",
        "  WriteLine(\"o is not an int so it cannot multiply!\");\n",
        "}"
      ],
      "outputs": []
    },
    {
      "cell_type": "markdown",
      "metadata": {},
      "source": [
        "## Branching with the switch statement"
      ]
    },
    {
      "cell_type": "code",
      "execution_count": 1,
      "metadata": {
        "dotnet_interactive": {
          "language": "csharp"
        }
      },
      "source": [
        "var number = (new Random()).Next(1, 7); \n",
        "WriteLine($\"My random number is {number}\");\n",
        "\n",
        "switch (number)\n",
        "{\n",
        "  case 1: \n",
        "    WriteLine(\"One\");\n",
        "    break; // jumps to end of switch statement\n",
        "  case 2:\n",
        "    WriteLine(\"Two\");\n",
        "    goto case 1;\n",
        "  case 3: // multiple case section\n",
        "  case 4:\n",
        "    WriteLine(\"Three or four\");\n",
        "    goto case 1;\n",
        "  case 5:\n",
        "    // go to sleep for half a second\n",
        "    System.Threading.Thread.Sleep(500);\n",
        "    goto A_label;\n",
        "  default:\n",
        "    WriteLine(\"Default\");\n",
        "    break;\n",
        "} // end of switch statement\n",
        "\n",
        "WriteLine(\"After end of switch\");\n",
        "\n",
        "A_label:\n",
        "\n",
        "WriteLine($\"After A_label\");"
      ],
      "outputs": []
    },
    {
      "cell_type": "markdown",
      "metadata": {},
      "source": [
        "## Pattern matching with the switch statement"
      ]
    },
    {
      "cell_type": "code",
      "execution_count": 1,
      "metadata": {
        "dotnet_interactive": {
          "language": "csharp"
        }
      },
      "source": [
        "using System.IO;"
      ],
      "outputs": []
    },
    {
      "cell_type": "code",
      "execution_count": 1,
      "metadata": {
        "dotnet_interactive": {
          "language": "csharp"
        }
      },
      "source": [
        "string path = \"/Users/markjprice/Code/Chapter03\";\n",
        "// string path = @\"C:\\Code\\Chapter03\";\n",
        "\n",
        "Write(\"Press R for readonly or W for write: \"); \n",
        "ConsoleKeyInfo key = ReadKey();\n",
        "WriteLine();\n",
        "\n",
        "Stream s = null;\n",
        "\n",
        "if (key.Key == ConsoleKey.R)\n",
        "{\n",
        "  s =  File.Open(\n",
        "    Path.Combine(path, \"file.txt\"), \n",
        "    FileMode.OpenOrCreate, \n",
        "    FileAccess.Read);\n",
        "}\n",
        "else\n",
        "{\n",
        "  s =  File.Open( \n",
        "    Path.Combine(path, \"file.txt\"), \n",
        "    FileMode.OpenOrCreate, \n",
        "    FileAccess.Write);\n",
        "}\n",
        "\n",
        "string message = string.Empty; \n",
        "\n",
        "switch (s)\n",
        "{\n",
        "  case FileStream writeableFile when s.CanWrite:\n",
        "    message = \"The stream is a file that I can write to.\";\n",
        "    break;\n",
        "  case FileStream readOnlyFile:\n",
        "    message = \"The stream is a read-only file.\";\n",
        "    break;\n",
        "  case MemoryStream ms:\n",
        "    message = \"The stream is a memory address.\";\n",
        "    break;\n",
        "  default: // always evaluated last despite its current position\n",
        "    message = \"The stream is some other type.\";\n",
        "    break;\n",
        "  case null:\n",
        "    message = \"The stream is null.\";\n",
        "    break;\n",
        "}\n",
        "WriteLine(message);"
      ],
      "outputs": []
    },
    {
      "cell_type": "markdown",
      "metadata": {},
      "source": [
        "## Looping with the while statement"
      ]
    },
    {
      "cell_type": "code",
      "execution_count": 1,
      "metadata": {
        "dotnet_interactive": {
          "language": "csharp"
        }
      },
      "source": [
        "int x = 0;\n",
        "\n",
        "while (x < 10)\n",
        "{\n",
        "  WriteLine(x); x++;\n",
        "}"
      ],
      "outputs": []
    },
    {
      "cell_type": "markdown",
      "metadata": {},
      "source": [
        "## Looping with the do statement"
      ]
    },
    {
      "cell_type": "code",
      "execution_count": 1,
      "metadata": {
        "dotnet_interactive": {
          "language": "csharp"
        }
      },
      "source": [
        "string password = string.Empty;\n",
        "int attempts = 0;\n",
        "\n",
        "do\n",
        "{\n",
        "  if (attempts == 10)\n",
        "  {\n",
        "    break;\n",
        "  }\n",
        "  Write(\"Enter your password: \"); \n",
        "  password = \"Pa$$w0rd\"; // ReadLine();\n",
        "  attempts++;\n",
        "}\n",
        "while (password != \"Pa$$w0rd\");\n",
        "\n",
        "if (attempts == 10)\n",
        "{\n",
        "  WriteLine(\"You failed after 10 attempts!\");\n",
        "}\n",
        "else\n",
        "{\n",
        "  WriteLine(\"Correct!\");\n",
        "}"
      ],
      "outputs": []
    },
    {
      "cell_type": "markdown",
      "metadata": {},
      "source": [
        "## Looping with the for statement"
      ]
    },
    {
      "cell_type": "code",
      "execution_count": 1,
      "metadata": {
        "dotnet_interactive": {
          "language": "csharp"
        }
      },
      "source": [
        "for (int y = 1; y <= 10; y++)\n",
        "{\n",
        "  WriteLine(y);\n",
        "}"
      ],
      "outputs": []
    },
    {
      "cell_type": "markdown",
      "metadata": {},
      "source": [
        "## Looping with the foreach statement"
      ]
    },
    {
      "cell_type": "code",
      "execution_count": 1,
      "metadata": {
        "dotnet_interactive": {
          "language": "csharp"
        }
      },
      "source": [
        "string[] names = { \"Adam\", \"Barry\", \"Charlie\" };\n",
        "\n",
        "foreach (string name in names)\n",
        "{\n",
        "  WriteLine($\"{name} has {name.Length} characters.\");\n",
        "}"
      ],
      "outputs": []
    },
    {
      "cell_type": "markdown",
      "metadata": {},
      "source": [
        "## Casting and converting"
      ]
    },
    {
      "cell_type": "code",
      "execution_count": 1,
      "metadata": {
        "dotnet_interactive": {
          "language": "csharp"
        }
      },
      "source": [
        "using static System.Console;\n",
        "using static System.Convert;"
      ],
      "outputs": []
    },
    {
      "cell_type": "markdown",
      "metadata": {},
      "source": [
        "## Casting numbers implicitly and explicitly"
      ]
    },
    {
      "cell_type": "code",
      "execution_count": 1,
      "metadata": {
        "dotnet_interactive": {
          "language": "csharp"
        }
      },
      "source": [
        "int a = 10;\n",
        "double b = a; // an int can be safely cast into a double\n",
        "WriteLine(b);\n",
        "\n",
        "double c = 9.8;\n",
        "int d = (int)c; // compiler gives an error for this line before adding (int)\n",
        "WriteLine(d); // d is 9 losing the .8 part due to the (int) cast above\n",
        "\n",
        "long e = 10; \n",
        "int f = (int)e;\n",
        "WriteLine($\"e is {e:N0} and f is {f:N0}\"); \n",
        "e = 5_000_000_000; // long.MaxValue;\n",
        "f = (int)e;\n",
        "WriteLine($\"e is {e:N0} and f is {f:N0}\");"
      ],
      "outputs": [
        {
          "output_type": "execute_result",
          "data": {
            "text/plain": "10\n"
          },
          "execution_count": 1,
          "metadata": {}
        },
        {
          "output_type": "execute_result",
          "data": {
            "text/plain": "9\n"
          },
          "execution_count": 1,
          "metadata": {}
        },
        {
          "output_type": "execute_result",
          "data": {
            "text/plain": "e is 10 and f is 10\n"
          },
          "execution_count": 1,
          "metadata": {}
        },
        {
          "output_type": "execute_result",
          "data": {
            "text/plain": "e is 5,000,000,000 and f is 705,032,704\n"
          },
          "execution_count": 1,
          "metadata": {}
        }
      ]
    },
    {
      "cell_type": "markdown",
      "metadata": {},
      "source": [
        "## Converting with the System.Convert type"
      ]
    },
    {
      "cell_type": "code",
      "execution_count": 1,
      "metadata": {
        "dotnet_interactive": {
          "language": "csharp"
        }
      },
      "source": [
        "double g = 9.8;\n",
        "int h = ToInt32(g); // a method of System.Convert\n",
        "WriteLine($\"g is {g} and h is {h}\");"
      ],
      "outputs": [
        {
          "output_type": "execute_result",
          "data": {
            "text/plain": "g is 9.8 and h is 10\n"
          },
          "execution_count": 1,
          "metadata": {}
        }
      ]
    },
    {
      "cell_type": "markdown",
      "metadata": {},
      "source": [
        "## Understanding the default rounding rules"
      ]
    },
    {
      "cell_type": "code",
      "execution_count": 1,
      "metadata": {
        "dotnet_interactive": {
          "language": "csharp"
        }
      },
      "source": [
        "double[] doubles = new[]\n",
        "  { 9.49, 9.5, 9.51, 10.49, 10.5, 10.51 };\n",
        "\n",
        "foreach (double n in doubles)\n",
        "{\n",
        "  WriteLine($\"ToInt32({n}) is {ToInt32(n)}\");\n",
        "}"
      ],
      "outputs": [
        {
          "output_type": "execute_result",
          "data": {
            "text/plain": "ToInt32(9.49) is 9\n"
          },
          "execution_count": 1,
          "metadata": {}
        },
        {
          "output_type": "execute_result",
          "data": {
            "text/plain": "ToInt32(9.5) is 10\n"
          },
          "execution_count": 1,
          "metadata": {}
        },
        {
          "output_type": "execute_result",
          "data": {
            "text/plain": "ToInt32(9.51) is 10\n"
          },
          "execution_count": 1,
          "metadata": {}
        },
        {
          "output_type": "execute_result",
          "data": {
            "text/plain": "ToInt32(10.49) is 10\n"
          },
          "execution_count": 1,
          "metadata": {}
        },
        {
          "output_type": "execute_result",
          "data": {
            "text/plain": "ToInt32(10.5) is 10\n"
          },
          "execution_count": 1,
          "metadata": {}
        },
        {
          "output_type": "execute_result",
          "data": {
            "text/plain": "ToInt32(10.51) is 11\n"
          },
          "execution_count": 1,
          "metadata": {}
        }
      ]
    },
    {
      "cell_type": "markdown",
      "metadata": {},
      "source": [
        "## Taking control of rounding rules"
      ]
    },
    {
      "cell_type": "code",
      "execution_count": 1,
      "metadata": {
        "dotnet_interactive": {
          "language": "csharp"
        }
      },
      "source": [
        "foreach (double n in doubles)\n",
        "{\n",
        "  WriteLine(format:\n",
        "    \"Math.Round({0}, 0, MidpointRounding.AwayFromZero) is {1}\",\n",
        "    arg0: n,\n",
        "    arg1: Math.Round(value: n, digits: 0,\n",
        "            mode: MidpointRounding.AwayFromZero));\n",
        "}"
      ],
      "outputs": [
        {
          "output_type": "execute_result",
          "data": {
            "text/plain": "Math.Round(9.49, 0, MidpointRounding.AwayFromZero) is 9\n"
          },
          "execution_count": 1,
          "metadata": {}
        },
        {
          "output_type": "execute_result",
          "data": {
            "text/plain": "Math.Round(9.5, 0, MidpointRounding.AwayFromZero) is 10\n"
          },
          "execution_count": 1,
          "metadata": {}
        },
        {
          "output_type": "execute_result",
          "data": {
            "text/plain": "Math.Round(9.51, 0, MidpointRounding.AwayFromZero) is 10\n"
          },
          "execution_count": 1,
          "metadata": {}
        },
        {
          "output_type": "execute_result",
          "data": {
            "text/plain": "Math.Round(10.49, 0, MidpointRounding.AwayFromZero) is 10\n"
          },
          "execution_count": 1,
          "metadata": {}
        },
        {
          "output_type": "execute_result",
          "data": {
            "text/plain": "Math.Round(10.5, 0, MidpointRounding.AwayFromZero) is 11\n"
          },
          "execution_count": 1,
          "metadata": {}
        },
        {
          "output_type": "execute_result",
          "data": {
            "text/plain": "Math.Round(10.51, 0, MidpointRounding.AwayFromZero) is 11\n"
          },
          "execution_count": 1,
          "metadata": {}
        }
      ]
    },
    {
      "cell_type": "markdown",
      "metadata": {},
      "source": [
        "## Converting from any type to a string"
      ]
    },
    {
      "cell_type": "code",
      "execution_count": 1,
      "metadata": {
        "dotnet_interactive": {
          "language": "csharp"
        }
      },
      "source": [
        "int number = 12; \n",
        "WriteLine(number.ToString());\n",
        "\n",
        "bool boolean = true; \n",
        "WriteLine(boolean.ToString());\n",
        "\n",
        "DateTime now = DateTime.Now; \n",
        "WriteLine(now.ToString());\n",
        "\n",
        "object me = new object(); \n",
        "WriteLine(me.ToString());"
      ],
      "outputs": []
    },
    {
      "cell_type": "markdown",
      "metadata": {},
      "source": [
        "## Converting from a binary object to a string"
      ]
    },
    {
      "cell_type": "code",
      "execution_count": 1,
      "metadata": {
        "dotnet_interactive": {
          "language": "csharp"
        }
      },
      "source": [
        " // allocate array of 128 bytes\n",
        " byte[] binaryObject = new byte[128];\n",
        "\n",
        " // populate array with random bytes\n",
        " (new Random()).NextBytes(binaryObject); \n",
        " \n",
        " WriteLine(\"Binary Object as bytes:\");\n",
        " \n",
        " for(int index = 0; index < binaryObject.Length; index++)\n",
        " {\n",
        "   Write($\"{binaryObject[index]:X} \");\n",
        " }\n",
        " WriteLine();\n",
        " \n",
        " // convert to Base64 string and output as text\n",
        " string encoded = ToBase64String(binaryObject);\n",
        " \n",
        " WriteLine($\"Binary Object as Base64: {encoded}\"); "
      ],
      "outputs": []
    },
    {
      "cell_type": "markdown",
      "metadata": {},
      "source": [
        "## Parsing from strings to numbers or dates and times"
      ]
    },
    {
      "cell_type": "code",
      "execution_count": 1,
      "metadata": {
        "dotnet_interactive": {
          "language": "csharp"
        }
      },
      "source": [
        "int age = int.Parse(\"27\");\n",
        "DateTime birthday = DateTime.Parse(\"4 July 1980\");\n",
        "\n",
        "WriteLine($\"I was born {age} years ago.\"); \n",
        "WriteLine($\"My birthday is {birthday}.\"); \n",
        "WriteLine($\"My birthday is {birthday:D}.\");"
      ],
      "outputs": []
    },
    {
      "cell_type": "markdown",
      "metadata": {},
      "source": [
        "## Errors using Parse"
      ]
    },
    {
      "cell_type": "code",
      "execution_count": 1,
      "metadata": {
        "dotnet_interactive": {
          "language": "csharp"
        }
      },
      "source": [
        "int count = int.Parse(\"abc\");"
      ],
      "outputs": [
        {
          "output_type": "error",
          "ename": "Error",
          "evalue": "[object Object]",
          "traceback": []
        }
      ]
    },
    {
      "cell_type": "markdown",
      "metadata": {},
      "source": [
        "## Avoiding exceptions using the TryParse method"
      ]
    },
    {
      "cell_type": "code",
      "execution_count": 1,
      "metadata": {
        "dotnet_interactive": {
          "language": "csharp"
        }
      },
      "source": [
        "Write(\"How many eggs are there? \"); \n",
        "int count;\n",
        "string input = \"12\";\n",
        "\n",
        "if (int.TryParse(input, out count))\n",
        "{\n",
        "  WriteLine($\"There are {count} eggs.\");\n",
        "}\n",
        "else\n",
        "{\n",
        "  WriteLine(\"I could not parse the input.\");\n",
        "}"
      ],
      "outputs": [
        {
          "output_type": "execute_result",
          "data": {
            "text/plain": "How many eggs are there? "
          },
          "execution_count": 1,
          "metadata": {}
        },
        {
          "output_type": "execute_result",
          "data": {
            "text/plain": "There are 12 eggs.\n"
          },
          "execution_count": 1,
          "metadata": {}
        }
      ]
    },
    {
      "cell_type": "markdown",
      "metadata": {},
      "source": [
        "## Throwing overflow exceptions with the checked statement"
      ]
    },
    {
      "cell_type": "code",
      "execution_count": 1,
      "metadata": {
        "dotnet_interactive": {
          "language": "csharp"
        }
      },
      "source": [
        "try\n",
        "{\n",
        "  checked\n",
        "  {\n",
        "    int x = int.MaxValue - 1; \n",
        "    WriteLine($\"Initial value: {x}\"); \n",
        "    x++;\n",
        "    WriteLine($\"After incrementing: {x}\"); \n",
        "    x++;\n",
        "    WriteLine($\"After incrementing: {x}\"); \n",
        "    x++;\n",
        "    WriteLine($\"After incrementing: {x}\");\n",
        "  }\n",
        "}\n",
        "catch (OverflowException)\n",
        "{\n",
        "  WriteLine(\"The code overflowed but I caught the exception.\");\n",
        "}"
      ],
      "outputs": []
    },
    {
      "cell_type": "markdown",
      "metadata": {},
      "source": [
        "## Disabling compiler overflow checks with the unchecked statement"
      ]
    },
    {
      "cell_type": "code",
      "execution_count": 1,
      "metadata": {
        "dotnet_interactive": {
          "language": "csharp"
        }
      },
      "source": [
        "int y = int.MaxValue + 1;"
      ],
      "outputs": []
    },
    {
      "cell_type": "code",
      "execution_count": 1,
      "metadata": {
        "dotnet_interactive": {
          "language": "csharp"
        }
      },
      "source": [
        "unchecked\n",
        "{\n",
        "  int y = int.MaxValue + 1; \n",
        "  WriteLine($\"Initial value: {y}\"); \n",
        "  y--;\n",
        "  WriteLine($\"After decrementing: {y}\"); \n",
        "  y--;\n",
        "  WriteLine($\"After decrementing: {y}\");\n",
        "}"
      ],
      "outputs": []
    },
    {
      "cell_type": "markdown",
      "metadata": {},
      "source": [
        "## Wrapping error-prone code in a try block"
      ]
    },
    {
      "cell_type": "code",
      "execution_count": 1,
      "metadata": {
        "dotnet_interactive": {
          "language": "csharp"
        }
      },
      "source": [
        "WriteLine(\"Before parsing\"); \n",
        "Write(\"What is your age? \"); \n",
        "string input = \"9876543210\"; // or use ReadLine(); \n",
        "\n",
        "try\n",
        "{\n",
        "  int age = int.Parse(input); \n",
        "  WriteLine($\"You are {age} years old.\");\n",
        "}\n",
        "catch (OverflowException)\n",
        "{\n",
        "  WriteLine(\"Your age is a valid number format but it is either too big or small.\");\n",
        "}\n",
        "catch (FormatException)\n",
        "{\n",
        "  WriteLine(\"The age you entered is not a valid number format.\");\n",
        "}\n",
        "catch (Exception ex)\n",
        "{\n",
        "  WriteLine($\"{ex.GetType()} says {ex.Message}\");\n",
        "}\n",
        "\n",
        "WriteLine(\"After parsing\");"
      ],
      "outputs": []
    }
  ],
  "metadata": {
    "kernelspec": {
      "display_name": ".NET (C#)",
      "language": "C#",
      "name": ".net-csharp"
    },
    "language_info": {
      "file_extension": ".cs",
      "mimetype": "text/x-csharp",
      "name": "C#",
      "pygments_lexer": "csharp",
      "version": "8.0"
    }
  },
  "nbformat": 4,
  "nbformat_minor": 4
}