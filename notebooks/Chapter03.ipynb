{
  "cells": [
    {
      "cell_type": "markdown",
      "source": [
        "# Chapter 3 - Controlling Flow and Converting Types"
      ],
      "metadata": {}
    },
    {
      "cell_type": "code",
      "execution_count": null,
      "source": [
        "using static System.Console;"
      ],
      "outputs": [],
      "metadata": {
        "dotnet_interactive": {
          "language": "csharp"
        }
      }
    },
    {
      "cell_type": "markdown",
      "source": [
        "## Exploring unary operators"
      ],
      "metadata": {}
    },
    {
      "cell_type": "code",
      "execution_count": null,
      "source": [
        "int a = 3; \n",
        "int b = a++;\n",
        "WriteLine($\"a is {a}, b is {b}\");\n",
        "\n",
        "int c = 3;\n",
        "int d = ++c; // increment c before assigning it\n",
        "WriteLine($\"c is {c}, d is {d}\");"
      ],
      "outputs": [],
      "metadata": {
        "dotnet_interactive": {
          "language": "csharp"
        }
      }
    },
    {
      "cell_type": "markdown",
      "source": [
        "## Exploring binary arithmetic operators"
      ],
      "metadata": {}
    },
    {
      "cell_type": "code",
      "execution_count": null,
      "source": [
        "int e = 11; \n",
        "int f = 3;\n",
        "WriteLine($\"e is {e}, f is {f}\"); \n",
        "WriteLine($\"e + f = {e + f}\"); \n",
        "WriteLine($\"e - f = {e - f}\"); \n",
        "WriteLine($\"e * f = {e * f}\"); \n",
        "WriteLine($\"e / f = {e / f}\"); \n",
        "WriteLine($\"e % f = {e % f}\");\n",
        "\n",
        "double g = 11.0;\n",
        "WriteLine($\"g is {g:N1}, f is {f}\"); \n",
        "WriteLine($\"g / f = {g / f}\");"
      ],
      "outputs": [],
      "metadata": {
        "dotnet_interactive": {
          "language": "csharp"
        }
      }
    },
    {
      "cell_type": "markdown",
      "source": [
        "## Exploring logical operators"
      ],
      "metadata": {}
    },
    {
      "cell_type": "code",
      "execution_count": null,
      "source": [
        "int a = 10; // 0000 1010\n",
        "int b = 6;\t// 0000 0110\n",
        "WriteLine($\"a = {a}\");\n",
        "WriteLine($\"b = {b}\");\n",
        "WriteLine($\"a & b = {a & b}\"); // 2-bit column only \n",
        "WriteLine($\"a | b = {a | b}\"); // 8, 4, and 2-bit columns \n",
        "WriteLine($\"a ^ b = {a ^ b}\"); // 8 and 4-bit columns"
      ],
      "outputs": [],
      "metadata": {
        "dotnet_interactive": {
          "language": "csharp"
        }
      }
    },
    {
      "cell_type": "markdown",
      "source": [
        "## Bitwise and binary shift operators"
      ],
      "metadata": {}
    },
    {
      "cell_type": "code",
      "execution_count": null,
      "source": [
        "bool a = true;\n",
        "bool b = false;\n",
        "WriteLine($\"AND  | a     | b    \");\n",
        "WriteLine($\"a    | {a & a,-5} | {a & b,-5} \");\n",
        "WriteLine($\"b    | {b & a,-5} | {b & b,-5} \");\n",
        "WriteLine();\n",
        "WriteLine($\"OR   | a     | b    \");\n",
        "WriteLine($\"a    | {a | a,-5} | {a | b,-5} \");\n",
        "WriteLine($\"b    | {b | a,-5} | {b | b,-5} \");\n",
        "WriteLine();\n",
        "WriteLine($\"XOR  | a     | b    \");\n",
        "WriteLine($\"a    | {a ^ a,-5} | {a ^ b,-5} \");\n",
        "WriteLine($\"b    | {b ^ a,-5} | {b ^ b,-5} \");\n",
        "\n",
        "WriteLine($\"a & DoStuff() = {a & DoStuff()}\"); \n",
        "WriteLine($\"b & DoStuff() = {b & DoStuff()}\");"
      ],
      "outputs": [],
      "metadata": {
        "dotnet_interactive": {
          "language": "csharp"
        }
      }
    },
    {
      "cell_type": "code",
      "execution_count": null,
      "source": [
        "private static bool DoStuff()\n",
        "{\n",
        "  WriteLine(\"I am doing some stuff.\"); \n",
        "  return true;\n",
        "}"
      ],
      "outputs": [],
      "metadata": {
        "dotnet_interactive": {
          "language": "csharp"
        }
      }
    },
    {
      "cell_type": "markdown",
      "source": [
        "## Branching with the if statement"
      ],
      "metadata": {}
    },
    {
      "cell_type": "code",
      "execution_count": null,
      "source": [
        "string password = \"ninja\";\n",
        "\n",
        "if (password.Length < 8)\n",
        "{\n",
        "  WriteLine(\"Your password is too short. Use at least 8 characters.\");\n",
        "}\n",
        "else\n",
        "{\n",
        "  WriteLine(\"Your password is strong.\");\n",
        "}"
      ],
      "outputs": [],
      "metadata": {
        "dotnet_interactive": {
          "language": "csharp"
        }
      }
    },
    {
      "cell_type": "markdown",
      "source": [
        "## Pattern matching with the if statement"
      ],
      "metadata": {}
    },
    {
      "cell_type": "code",
      "execution_count": null,
      "source": [
        "// add and remove the \"\" to change the behavior\n",
        "object o = 3; \n",
        "int j = 4;\n",
        "\n",
        "if (o is int i)\n",
        "{\n",
        "  WriteLine($\"{i} x {j} = {i * j}\");\n",
        "}\n",
        "else\n",
        "{\n",
        "  WriteLine(\"o is not an int so it cannot multiply!\");\n",
        "}"
      ],
      "outputs": [],
      "metadata": {
        "dotnet_interactive": {
          "language": "csharp"
        }
      }
    },
    {
      "cell_type": "markdown",
      "source": [
        "## Branching with the switch statement"
      ],
      "metadata": {}
    },
    {
      "cell_type": "code",
      "execution_count": null,
      "source": [
        "var number = (new Random()).Next(1, 7); \n",
        "WriteLine($\"My random number is {number}\");\n",
        "\n",
        "switch (number)\n",
        "{\n",
        "  case 1: \n",
        "    WriteLine(\"One\");\n",
        "    break; // jumps to end of switch statement\n",
        "  case 2:\n",
        "    WriteLine(\"Two\");\n",
        "    goto case 1;\n",
        "  case 3: // multiple case section\n",
        "  case 4:\n",
        "    WriteLine(\"Three or four\");\n",
        "    goto case 1;\n",
        "  case 5:\n",
        "    // go to sleep for half a second\n",
        "    System.Threading.Thread.Sleep(500);\n",
        "    goto A_label;\n",
        "  default:\n",
        "    WriteLine(\"Default\");\n",
        "    break;\n",
        "} // end of switch statement\n",
        "\n",
        "WriteLine(\"After end of switch\");\n",
        "\n",
        "A_label:\n",
        "\n",
        "WriteLine($\"After A_label\");"
      ],
      "outputs": [],
      "metadata": {
        "dotnet_interactive": {
          "language": "csharp"
        }
      }
    },
    {
      "cell_type": "markdown",
      "source": [
        "## Pattern matching with the switch statement"
      ],
      "metadata": {}
    },
    {
      "cell_type": "code",
      "execution_count": null,
      "source": [
        "using System.IO;"
      ],
      "outputs": [],
      "metadata": {
        "dotnet_interactive": {
          "language": "csharp"
        }
      }
    },
    {
      "cell_type": "code",
      "execution_count": null,
      "source": [
        "string path = \"/Users/markjprice/Code/Chapter03\";\n",
        "// string path = @\"C:\\Code\\Chapter03\";\n",
        "\n",
        "Write(\"Press R for readonly or W for write: \"); \n",
        "ConsoleKeyInfo key = ReadKey();\n",
        "WriteLine();\n",
        "\n",
        "Stream s = null;\n",
        "\n",
        "if (key.Key == ConsoleKey.R)\n",
        "{\n",
        "  s =  File.Open(\n",
        "    Path.Combine(path, \"file.txt\"), \n",
        "    FileMode.OpenOrCreate, \n",
        "    FileAccess.Read);\n",
        "}\n",
        "else\n",
        "{\n",
        "  s =  File.Open( \n",
        "    Path.Combine(path, \"file.txt\"), \n",
        "    FileMode.OpenOrCreate, \n",
        "    FileAccess.Write);\n",
        "}\n",
        "\n",
        "string message = string.Empty; \n",
        "\n",
        "switch (s)\n",
        "{\n",
        "  case FileStream writeableFile when s.CanWrite:\n",
        "    message = \"The stream is a file that I can write to.\";\n",
        "    break;\n",
        "  case FileStream readOnlyFile:\n",
        "    message = \"The stream is a read-only file.\";\n",
        "    break;\n",
        "  case MemoryStream ms:\n",
        "    message = \"The stream is a memory address.\";\n",
        "    break;\n",
        "  default: // always evaluated last despite its current position\n",
        "    message = \"The stream is some other type.\";\n",
        "    break;\n",
        "  case null:\n",
        "    message = \"The stream is null.\";\n",
        "    break;\n",
        "}\n",
        "WriteLine(message);"
      ],
      "outputs": [],
      "metadata": {
        "dotnet_interactive": {
          "language": "csharp"
        }
      }
    },
    {
      "cell_type": "markdown",
      "source": [
        "## Looping with the while statement"
      ],
      "metadata": {}
    },
    {
      "cell_type": "code",
      "execution_count": null,
      "source": [
        "int x = 0;\n",
        "\n",
        "while (x < 10)\n",
        "{\n",
        "  WriteLine(x); x++;\n",
        "}"
      ],
      "outputs": [],
      "metadata": {
        "dotnet_interactive": {
          "language": "csharp"
        }
      }
    },
    {
      "cell_type": "markdown",
      "source": [
        "## Looping with the do statement"
      ],
      "metadata": {}
    },
    {
      "cell_type": "code",
      "execution_count": null,
      "source": [
        "string password = string.Empty;\n",
        "int attempts = 0;\n",
        "\n",
        "do\n",
        "{\n",
        "  if (attempts == 10)\n",
        "  {\n",
        "    break;\n",
        "  }\n",
        "  Write(\"Enter your password: \"); \n",
        "  password = \"Pa$$w0rd\"; // ReadLine();\n",
        "  attempts++;\n",
        "}\n",
        "while (password != \"Pa$$w0rd\");\n",
        "\n",
        "if (attempts == 10)\n",
        "{\n",
        "  WriteLine(\"You failed after 10 attempts!\");\n",
        "}\n",
        "else\n",
        "{\n",
        "  WriteLine(\"Correct!\");\n",
        "}"
      ],
      "outputs": [],
      "metadata": {
        "dotnet_interactive": {
          "language": "csharp"
        }
      }
    },
    {
      "cell_type": "markdown",
      "source": [
        "## Looping with the for statement"
      ],
      "metadata": {}
    },
    {
      "cell_type": "code",
      "execution_count": null,
      "source": [
        "for (int y = 1; y <= 10; y++)\n",
        "{\n",
        "  WriteLine(y);\n",
        "}"
      ],
      "outputs": [],
      "metadata": {
        "dotnet_interactive": {
          "language": "csharp"
        }
      }
    },
    {
      "cell_type": "markdown",
      "source": [
        "## Looping with the foreach statement"
      ],
      "metadata": {}
    },
    {
      "cell_type": "code",
      "execution_count": null,
      "source": [
        "string[] names = { \"Adam\", \"Barry\", \"Charlie\" };\n",
        "\n",
        "foreach (string name in names)\n",
        "{\n",
        "  WriteLine($\"{name} has {name.Length} characters.\");\n",
        "}"
      ],
      "outputs": [],
      "metadata": {
        "dotnet_interactive": {
          "language": "csharp"
        }
      }
    },
    {
      "cell_type": "markdown",
      "source": [
        "## Casting and converting"
      ],
      "metadata": {}
    },
    {
      "cell_type": "code",
      "execution_count": null,
      "source": [
        "using static System.Console;\n",
        "using static System.Convert;"
      ],
      "outputs": [],
      "metadata": {
        "dotnet_interactive": {
          "language": "csharp"
        }
      }
    },
    {
      "cell_type": "markdown",
      "source": [
        "## Casting numbers implicitly and explicitly"
      ],
      "metadata": {}
    },
    {
      "cell_type": "code",
      "execution_count": null,
      "source": [
        "int a = 10;\n",
        "double b = a; // an int can be safely cast into a double\n",
        "WriteLine(b);\n",
        "\n",
        "double c = 9.8;\n",
        "int d = (int)c; // compiler gives an error for this line before adding (int)\n",
        "WriteLine(d); // d is 9 losing the .8 part due to the (int) cast above\n",
        "\n",
        "long e = 10; \n",
        "int f = (int)e;\n",
        "WriteLine($\"e is {e:N0} and f is {f:N0}\"); \n",
        "e = 5_000_000_000; // long.MaxValue;\n",
        "f = (int)e;\n",
        "WriteLine($\"e is {e:N0} and f is {f:N0}\");"
      ],
      "outputs": [],
      "metadata": {
        "dotnet_interactive": {
          "language": "csharp"
        }
      }
    },
    {
      "cell_type": "markdown",
      "source": [
        "## Converting with the System.Convert type"
      ],
      "metadata": {}
    },
    {
      "cell_type": "code",
      "execution_count": null,
      "source": [
        "double g = 9.8;\n",
        "int h = ToInt32(g); // a method of System.Convert\n",
        "WriteLine($\"g is {g} and h is {h}\");"
      ],
      "outputs": [],
      "metadata": {
        "dotnet_interactive": {
          "language": "csharp"
        }
      }
    },
    {
      "cell_type": "markdown",
      "source": [
        "## Understanding the default rounding rules"
      ],
      "metadata": {}
    },
    {
      "cell_type": "code",
      "execution_count": null,
      "source": [
        "double[] doubles = new[]\n",
        "  { 9.49, 9.5, 9.51, 10.49, 10.5, 10.51 };\n",
        "\n",
        "foreach (double n in doubles)\n",
        "{\n",
        "  WriteLine($\"ToInt32({n}) is {ToInt32(n)}\");\n",
        "}"
      ],
      "outputs": [],
      "metadata": {
        "dotnet_interactive": {
          "language": "csharp"
        }
      }
    },
    {
      "cell_type": "markdown",
      "source": [
        "## Taking control of rounding rules"
      ],
      "metadata": {}
    },
    {
      "cell_type": "code",
      "execution_count": null,
      "source": [
        "foreach (double n in doubles)\n",
        "{\n",
        "  WriteLine(format:\n",
        "    \"Math.Round({0}, 0, MidpointRounding.AwayFromZero) is {1}\",\n",
        "    arg0: n,\n",
        "    arg1: Math.Round(value: n, digits: 0,\n",
        "            mode: MidpointRounding.AwayFromZero));\n",
        "}"
      ],
      "outputs": [],
      "metadata": {
        "dotnet_interactive": {
          "language": "csharp"
        }
      }
    },
    {
      "cell_type": "markdown",
      "source": [
        "## Converting from any type to a string"
      ],
      "metadata": {}
    },
    {
      "cell_type": "code",
      "execution_count": null,
      "source": [
        "int number = 12; \n",
        "WriteLine(number.ToString());\n",
        "\n",
        "bool boolean = true; \n",
        "WriteLine(boolean.ToString());\n",
        "\n",
        "DateTime now = DateTime.Now; \n",
        "WriteLine(now.ToString());\n",
        "\n",
        "object me = new object(); \n",
        "WriteLine(me.ToString());"
      ],
      "outputs": [],
      "metadata": {
        "dotnet_interactive": {
          "language": "csharp"
        }
      }
    },
    {
      "cell_type": "markdown",
      "source": [
        "## Converting from a binary object to a string"
      ],
      "metadata": {}
    },
    {
      "cell_type": "code",
      "execution_count": null,
      "source": [
        " // allocate array of 128 bytes\n",
        " byte[] binaryObject = new byte[128];\n",
        "\n",
        " // populate array with random bytes\n",
        " (new Random()).NextBytes(binaryObject); \n",
        " \n",
        " WriteLine(\"Binary Object as bytes:\");\n",
        " \n",
        " for(int index = 0; index < binaryObject.Length; index++)\n",
        " {\n",
        "   Write($\"{binaryObject[index]:X} \");\n",
        " }\n",
        " WriteLine();\n",
        " \n",
        " // convert to Base64 string and output as text\n",
        " string encoded = ToBase64String(binaryObject);\n",
        " \n",
        " WriteLine($\"Binary Object as Base64: {encoded}\"); "
      ],
      "outputs": [],
      "metadata": {
        "dotnet_interactive": {
          "language": "csharp"
        }
      }
    },
    {
      "cell_type": "markdown",
      "source": [
        "## Parsing from strings to numbers or dates and times"
      ],
      "metadata": {}
    },
    {
      "cell_type": "code",
      "execution_count": null,
      "source": [
        "int age = int.Parse(\"27\");\n",
        "DateTime birthday = DateTime.Parse(\"4 July 1980\");\n",
        "\n",
        "WriteLine($\"I was born {age} years ago.\"); \n",
        "WriteLine($\"My birthday is {birthday}.\"); \n",
        "WriteLine($\"My birthday is {birthday:D}.\");"
      ],
      "outputs": [],
      "metadata": {
        "dotnet_interactive": {
          "language": "csharp"
        }
      }
    },
    {
      "cell_type": "markdown",
      "source": [
        "## Errors using Parse"
      ],
      "metadata": {}
    },
    {
      "cell_type": "code",
      "execution_count": null,
      "source": [
        "int count = int.Parse(\"abc\");"
      ],
      "outputs": [],
      "metadata": {
        "dotnet_interactive": {
          "language": "csharp"
        }
      }
    },
    {
      "cell_type": "markdown",
      "source": [
        "## Avoiding exceptions using the TryParse method"
      ],
      "metadata": {}
    },
    {
      "cell_type": "code",
      "execution_count": null,
      "source": [
        "Write(\"How many eggs are there? \"); \n",
        "int count;\n",
        "string input = \"12\";\n",
        "\n",
        "if (int.TryParse(input, out count))\n",
        "{\n",
        "  WriteLine($\"There are {count} eggs.\");\n",
        "}\n",
        "else\n",
        "{\n",
        "  WriteLine(\"I could not parse the input.\");\n",
        "}"
      ],
      "outputs": [],
      "metadata": {
        "dotnet_interactive": {
          "language": "csharp"
        }
      }
    },
    {
      "cell_type": "markdown",
      "source": [
        "## Throwing overflow exceptions with the checked statement"
      ],
      "metadata": {}
    },
    {
      "cell_type": "code",
      "execution_count": null,
      "source": [
        "try\n",
        "{\n",
        "  checked\n",
        "  {\n",
        "    int x = int.MaxValue - 1; \n",
        "    WriteLine($\"Initial value: {x}\"); \n",
        "    x++;\n",
        "    WriteLine($\"After incrementing: {x}\"); \n",
        "    x++;\n",
        "    WriteLine($\"After incrementing: {x}\"); \n",
        "    x++;\n",
        "    WriteLine($\"After incrementing: {x}\");\n",
        "  }\n",
        "}\n",
        "catch (OverflowException)\n",
        "{\n",
        "  WriteLine(\"The code overflowed but I caught the exception.\");\n",
        "}"
      ],
      "outputs": [],
      "metadata": {
        "dotnet_interactive": {
          "language": "csharp"
        }
      }
    },
    {
      "cell_type": "markdown",
      "source": [
        "## Disabling compiler overflow checks with the unchecked statement"
      ],
      "metadata": {}
    },
    {
      "cell_type": "code",
      "execution_count": null,
      "source": [
        "int y = int.MaxValue + 1;"
      ],
      "outputs": [],
      "metadata": {
        "dotnet_interactive": {
          "language": "csharp"
        }
      }
    },
    {
      "cell_type": "code",
      "execution_count": null,
      "source": [
        "unchecked\n",
        "{\n",
        "  int y = int.MaxValue + 1; \n",
        "  WriteLine($\"Initial value: {y}\"); \n",
        "  y--;\n",
        "  WriteLine($\"After decrementing: {y}\"); \n",
        "  y--;\n",
        "  WriteLine($\"After decrementing: {y}\");\n",
        "}"
      ],
      "outputs": [],
      "metadata": {
        "dotnet_interactive": {
          "language": "csharp"
        }
      }
    },
    {
      "cell_type": "markdown",
      "source": [
        "## Wrapping error-prone code in a try block"
      ],
      "metadata": {}
    },
    {
      "cell_type": "code",
      "execution_count": null,
      "source": [
        "WriteLine(\"Before parsing\"); \n",
        "Write(\"What is your age? \"); \n",
        "string input = \"9876543210\"; // or use ReadLine(); \n",
        "\n",
        "try\n",
        "{\n",
        "  int age = int.Parse(input); \n",
        "  WriteLine($\"You are {age} years old.\");\n",
        "}\n",
        "catch (OverflowException)\n",
        "{\n",
        "  WriteLine(\"Your age is a valid number format but it is either too big or small.\");\n",
        "}\n",
        "catch (FormatException)\n",
        "{\n",
        "  WriteLine(\"The age you entered is not a valid number format.\");\n",
        "}\n",
        "catch (Exception ex)\n",
        "{\n",
        "  WriteLine($\"{ex.GetType()} says {ex.Message}\");\n",
        "}\n",
        "\n",
        "WriteLine(\"After parsing\");"
      ],
      "outputs": [],
      "metadata": {
        "dotnet_interactive": {
          "language": "csharp"
        }
      }
    }
  ],
  "metadata": {
    "kernelspec": {
      "display_name": ".NET (C#)",
      "language": "C#",
      "name": ".net-csharp"
    },
    "language_info": {
      "file_extension": ".cs",
      "mimetype": "text/x-csharp",
      "name": "C#",
      "pygments_lexer": "csharp",
      "version": "8.0"
    }
  },
  "nbformat": 4,
  "nbformat_minor": 4
}