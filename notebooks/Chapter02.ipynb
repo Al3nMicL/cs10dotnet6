{
  "cells": [
    {
      "cell_type": "markdown",
      "metadata": {},
      "source": [
        "# Chapter 2 - Speaking C#"
      ]
    },
    {
      "cell_type": "code",
      "execution_count": 1,
      "metadata": {
        "dotnet_interactive": {
          "language": "csharp"
        }
      },
      "source": [
        "using static System.Console;"
      ],
      "outputs": []
    },
    {
      "cell_type": "markdown",
      "metadata": {},
      "source": [
        "## Showing the compiler version"
      ]
    },
    {
      "cell_type": "code",
      "execution_count": 1,
      "metadata": {
        "dotnet_interactive": {
          "language": "csharp"
        }
      },
      "source": [
        "// #error version"
      ],
      "outputs": []
    },
    {
      "cell_type": "markdown",
      "metadata": {},
      "source": [
        "## Help for writing correct code\n",
        "\n",
        "In a .NET Interactive notebook, you do not need to end the last statement with a semi-colon."
      ]
    },
    {
      "cell_type": "code",
      "execution_count": 1,
      "metadata": {
        "dotnet_interactive": {
          "language": "csharp"
        }
      },
      "source": [
        "// with two compile errors\n",
        "Console.Writeline(\"Hello World!\")\n",
        "\n",
        "// fixed\n",
        "Console.WriteLine(\"Hello World!\")"
      ],
      "outputs": [
        {
          "output_type": "error",
          "ename": "Error",
          "evalue": "[object Object]",
          "traceback": []
        }
      ]
    },
    {
      "cell_type": "markdown",
      "metadata": {},
      "source": [
        "## Revealing the extent of the C# vocabulary\n",
        "\n",
        "When running this code inside a .NET Interactive notebook, it lists all possible assemblies, including some used by the extension like `Microsoft.DotNet.Interactive`."
      ]
    },
    {
      "cell_type": "code",
      "execution_count": 1,
      "metadata": {
        "dotnet_interactive": {
          "language": "csharp"
        }
      },
      "source": [
        "using System.Linq;\n",
        "using System.Reflection;\n",
        "\n",
        "// loop through the assemblies that this app references\n",
        "foreach (var r in Assembly.GetEntryAssembly()\n",
        "  .GetReferencedAssemblies())\n",
        "{\n",
        "  // load the assembly so we can read its details\n",
        "  var a = Assembly.Load(new AssemblyName(r.FullName));\n",
        "\n",
        "  // declare a variable to count the number of methods\n",
        "  int methodCount = 0;\n",
        "  // loop through all the types in the assembly\n",
        "  foreach (var t in a.DefinedTypes)\n",
        "  {\n",
        "    // add up the counts of methods\n",
        "    methodCount += t.GetMethods().Count();\n",
        "  }\n",
        "\n",
        "  // output the count of types and their methods\n",
        "  Console.WriteLine(\n",
        "    \"{0:N0} types with {1:N0} methods in {2} assembly.\", \n",
        "    arg0: a.DefinedTypes.Count(),\n",
        "    arg1: methodCount, \n",
        "    arg2: r.Name);\n",
        "}"
      ],
      "outputs": []
    },
    {
      "cell_type": "markdown",
      "metadata": {},
      "source": [
        "## Naming things and assigning values"
      ]
    },
    {
      "cell_type": "code",
      "execution_count": 1,
      "metadata": {
        "dotnet_interactive": {
          "language": "csharp"
        }
      },
      "source": [
        "// let the heightInMetres variable become equal to the value 1.88\n",
        "double heightInMetres = 1.88;\n",
        "Console.WriteLine($\"The variable {nameof(heightInMetres)} has the value {heightInMetres}.\");"
      ],
      "outputs": [
        {
          "output_type": "execute_result",
          "data": {
            "text/plain": "The variable heightInMetres has the value 1.88.\n"
          },
          "execution_count": 1,
          "metadata": {}
        }
      ]
    },
    {
      "cell_type": "markdown",
      "metadata": {},
      "source": [
        "## Storing text"
      ]
    },
    {
      "cell_type": "code",
      "execution_count": 1,
      "metadata": {
        "dotnet_interactive": {
          "language": "csharp"
        }
      },
      "source": [
        "char letter = 'A'; // assigning literal characters\n",
        "char digit = '1'; \n",
        "char symbol = '$';\n",
        "char userChoice = GetSomeKeystroke(); // assigning from a fictitious function\n",
        "\n",
        "string firstName = \"Bob\"; // assigning literal strings\n",
        "string lastName = \"Smith\";\n",
        "string phoneNumber = \"(215) 555-4256\";\n",
        "\n",
        "// assigning a string returned from a fictitious function\n",
        "string address = GetAddressFromDatabase(id: 563);"
      ],
      "outputs": []
    },
    {
      "cell_type": "markdown",
      "metadata": {},
      "source": [
        "## Understanding verbatim strings\n",
        "\n",
        "In a .NET Interactive notebook, a brighter red color is used for escaped characters inside a string value to make them easier to see.\n",
        "\n",
        "`\\t` means tab. `\\b` means backspace. `\\s` does is not a valid escape character."
      ]
    },
    {
      "cell_type": "code",
      "execution_count": 1,
      "metadata": {
        "dotnet_interactive": {
          "language": "csharp"
        }
      },
      "source": [
        "string fullNameWithTabSeparator = \"Bob\\tSmith\";\n",
        "\n",
        "string filePath = \"C:\\televisions\\sony\\bravia.txt\";"
      ],
      "outputs": []
    },
    {
      "cell_type": "code",
      "execution_count": 1,
      "metadata": {
        "dotnet_interactive": {
          "language": "csharp"
        }
      },
      "source": [
        "string filePath = @\"C:\\televisions\\sony\\bravia.txt\";"
      ],
      "outputs": []
    },
    {
      "cell_type": "markdown",
      "metadata": {},
      "source": [
        "## Storing numbers"
      ]
    },
    {
      "cell_type": "code",
      "execution_count": 1,
      "metadata": {
        "dotnet_interactive": {
          "language": "csharp"
        }
      },
      "source": [
        "// unsigned integer means positive whole number or 0\n",
        "uint naturalNumber = 23;\n",
        "\n",
        "// integer means negative or positive whole number or 0\n",
        "int integerNumber = -23;\n",
        "\n",
        "// float means single-precision floating point\n",
        "// F suffix makes it a float literal\n",
        "float realNumber = 2.3F;\n",
        "\n",
        "// double means double-precision floating point\n",
        "double anotherRealNumber = 2.3; // double literal"
      ],
      "outputs": []
    },
    {
      "cell_type": "markdown",
      "metadata": {},
      "source": [
        "## Storing whole numbers"
      ]
    },
    {
      "cell_type": "code",
      "execution_count": 1,
      "metadata": {
        "dotnet_interactive": {
          "language": "csharp"
        }
      },
      "source": [
        "// three variables that store the number 2 million\n",
        "int decimalNotation = 2_000_000;\n",
        "int binaryNotation = 0b_0001_1110_1000_0100_1000_0000; \n",
        "int hexadecimalNotation = 0x_001E_8480;\n",
        "\n",
        "// check the three variables have the same value\n",
        "// both statements output true \n",
        "Console.WriteLine($\"{decimalNotation == binaryNotation}\"); \n",
        "Console.WriteLine(\n",
        "  $\"{decimalNotation == hexadecimalNotation}\");"
      ],
      "outputs": [
        {
          "output_type": "execute_result",
          "data": {
            "text/plain": "True\n"
          },
          "execution_count": 1,
          "metadata": {}
        },
        {
          "output_type": "execute_result",
          "data": {
            "text/plain": "True\n"
          },
          "execution_count": 1,
          "metadata": {}
        }
      ]
    },
    {
      "cell_type": "markdown",
      "metadata": {},
      "source": [
        "## Writing code to explore number sizes"
      ]
    },
    {
      "cell_type": "code",
      "execution_count": 1,
      "metadata": {
        "dotnet_interactive": {
          "language": "csharp"
        }
      },
      "source": [
        "Console.WriteLine($\"int uses {sizeof(int)} bytes and can store numbers in the range {int.MinValue:N0} to {int.MaxValue:N0}.\"); \n",
        "Console.WriteLine($\"double uses {sizeof(double)} bytes and can store numbers in the range {double.MinValue:N0} to {double.MaxValue:N0}.\"); \n",
        "Console.WriteLine($\"decimal uses {sizeof(decimal)} bytes and can store numbers in the range {decimal.MinValue:N0} to {decimal.MaxValue:N0}.\");"
      ],
      "outputs": [
        {
          "output_type": "execute_result",
          "data": {
            "text/plain": "int uses 4 bytes and can store numbers in the range -2,147,483,648 to 2,147,483,647.\n"
          },
          "execution_count": 1,
          "metadata": {}
        },
        {
          "output_type": "execute_result",
          "data": {
            "text/plain": "double uses 8 bytes and can store numbers in the range -179,769,313,486,231,570,814,527,423,731,704,356,798,070,567,525,844,996,598,917,476,803,157,260,780,028,538,760,589,558,632,766,878,171,540,458,953,514,382,464,234,321,326,889,464,182,768,467,546,703,537,516,986,049,910,576,551,282,076,245,490,090,389,328,944,075,868,508,455,133,942,304,583,236,903,222,948,165,808,559,332,123,348,274,797,826,204,144,723,168,738,177,180,919,299,881,250,404,026,184,124,858,368 to 179,769,313,486,231,570,814,527,423,731,704,356,798,070,567,525,844,996,598,917,476,803,157,260,780,028,538,760,589,558,632,766,878,171,540,458,953,514,382,464,234,321,326,889,464,182,768,467,546,703,537,516,986,049,910,576,551,282,076,245,490,090,389,328,944,075,868,508,455,133,942,304,583,236,903,222,948,165,808,559,332,123,348,274,797,826,204,144,723,168,738,177,180,919,299,881,250,404,026,184,124,858,368.\n"
          },
          "execution_count": 1,
          "metadata": {}
        },
        {
          "output_type": "execute_result",
          "data": {
            "text/plain": "decimal uses 16 bytes and can store numbers in the range -79,228,162,514,264,337,593,543,950,335 to 79,228,162,514,264,337,593,543,950,335.\n"
          },
          "execution_count": 1,
          "metadata": {}
        }
      ]
    },
    {
      "cell_type": "markdown",
      "metadata": {},
      "source": [
        "## Comparing double and decimal"
      ]
    },
    {
      "cell_type": "code",
      "execution_count": 1,
      "metadata": {
        "dotnet_interactive": {
          "language": "csharp"
        }
      },
      "source": [
        "Console.WriteLine(\"Using doubles:\"); \n",
        "double a = 0.1;\n",
        "double b = 0.2;\n",
        "\n",
        "if (a + b == 0.3)\n",
        "{\n",
        "  Console.WriteLine($\"{a} + {b} equals 0.3\");\n",
        "}\n",
        "else\n",
        "{\n",
        "  Console.WriteLine($\"{a} + {b} does NOT equal 0.3\");\n",
        "}"
      ],
      "outputs": [
        {
          "output_type": "execute_result",
          "data": {
            "text/plain": "Using doubles:\n"
          },
          "execution_count": 1,
          "metadata": {}
        },
        {
          "output_type": "execute_result",
          "data": {
            "text/plain": "0.1 + 0.2 does NOT equal 0.3\n"
          },
          "execution_count": 1,
          "metadata": {}
        }
      ]
    },
    {
      "cell_type": "code",
      "execution_count": 1,
      "metadata": {
        "dotnet_interactive": {
          "language": "csharp"
        }
      },
      "source": [
        "Console.WriteLine(\"Using decimals:\");\n",
        "decimal c = 0.1M; // M suffix means a decimal literal value\n",
        "decimal d = 0.2M;\n",
        "\n",
        "if (c + d == 0.3M)\n",
        "{\n",
        "  Console.WriteLine($\"{c} + {d} equals 0.3\");\n",
        "}\n",
        "else\n",
        "{\n",
        "  Console.WriteLine($\"{c} + {d} does NOT equal 0.3\");\n",
        "}\n",
        ""
      ],
      "outputs": [
        {
          "output_type": "execute_result",
          "data": {
            "text/plain": "Using decimals:\n"
          },
          "execution_count": 1,
          "metadata": {}
        },
        {
          "output_type": "execute_result",
          "data": {
            "text/plain": "0.1 + 0.2 equals 0.3\n"
          },
          "execution_count": 1,
          "metadata": {}
        }
      ]
    },
    {
      "cell_type": "markdown",
      "metadata": {},
      "source": [
        "## Storing Booleans"
      ]
    },
    {
      "cell_type": "code",
      "execution_count": 1,
      "metadata": {
        "dotnet_interactive": {
          "language": "csharp"
        }
      },
      "source": [
        "bool happy = true; \n",
        "bool sad = false;"
      ],
      "outputs": []
    },
    {
      "cell_type": "markdown",
      "metadata": {},
      "source": [
        "## Storing any type of object"
      ]
    },
    {
      "cell_type": "code",
      "execution_count": 1,
      "metadata": {
        "dotnet_interactive": {
          "language": "csharp"
        }
      },
      "source": [
        "object height = 1.88; // storing a double in an object \n",
        "object name = \"Amir\"; // storing a string in an object\n",
        "Console.WriteLine($\"{name} is {height} metres tall.\");\n",
        "\n",
        "//int length1 = name.Length; // gives compile error!\n",
        "int length2 = ((string)name).Length; // tell compiler it is a string\n",
        "Console.WriteLine($\"{name} has {length2} characters.\");"
      ],
      "outputs": [
        {
          "output_type": "execute_result",
          "data": {
            "text/plain": "Amir is 1.88 metres tall.\n"
          },
          "execution_count": 1,
          "metadata": {}
        },
        {
          "output_type": "execute_result",
          "data": {
            "text/plain": "Amir has 4 characters.\n"
          },
          "execution_count": 1,
          "metadata": {}
        }
      ]
    },
    {
      "cell_type": "markdown",
      "metadata": {},
      "source": [
        "## Storing dynamic types"
      ]
    },
    {
      "cell_type": "code",
      "execution_count": 1,
      "metadata": {
        "dotnet_interactive": {
          "language": "csharp"
        }
      },
      "source": [
        "// storing a string in a dynamic object \n",
        "// string has a Length property \n",
        "dynamic anotherName = \"Ahmed\";\n",
        "\n",
        "// int does not have a Length property \n",
        "anotherName = 12;\n",
        "\n",
        "// an array of any type has a Length property\n",
        "anotherName = new[] { 3, 5, 7 };\n",
        "\n",
        "// this compiles but would throw an exception at run-time \n",
        "// if you later store a data type that does not have a \n",
        "// property named Length\n",
        "Console.WriteLine($\"Length is {anotherName.Length}\");"
      ],
      "outputs": [
        {
          "output_type": "execute_result",
          "data": {
            "text/plain": "Length is 3\n"
          },
          "execution_count": 1,
          "metadata": {}
        }
      ]
    },
    {
      "cell_type": "markdown",
      "metadata": {},
      "source": [
        "## Specifying and inferring the type of a local variable\n",
        "\n",
        "*Note*: click **Execute Code** in the following cell to import the namespaces for the subsequent code cell."
      ]
    },
    {
      "cell_type": "code",
      "execution_count": 1,
      "metadata": {
        "dotnet_interactive": {
          "language": "csharp"
        }
      },
      "source": [
        "using System.IO;\n",
        "using System.Xml;"
      ],
      "outputs": []
    },
    {
      "cell_type": "code",
      "execution_count": 1,
      "metadata": {
        "dotnet_interactive": {
          "language": "csharp"
        }
      },
      "source": [
        "var population = 66_000_000; // 66 million in UK\n",
        "var weight = 1.88; // in kilograms\n",
        "var price = 4.99M; // in pounds sterling\n",
        "var fruit = \"Apples\"; // strings use double-quotes\n",
        "var letter = 'Z'; // chars use single-quotes\n",
        "var happy = true; // Booleans have value of true or false\n",
        "\n",
        "// good use of var because it avoids the repeated type\n",
        "// as shown in the more verbose second statement\n",
        "var xml1 = new XmlDocument(); \n",
        "XmlDocument xml2 = new XmlDocument();\n",
        "\n",
        "// bad use of var because we cannot tell the type, so we\n",
        "// should use a specific type declaration as shown in\n",
        "// the second statement\n",
        "var file1 = File.CreateText(@\"C:\\something.txt\"); \n",
        "StreamWriter file2 = File.CreateText(@\"C:\\something.txt\");\n",
        "\n",
        "XmlDocument xml3 = new(); // target-typed new in C# 9 or later"
      ],
      "outputs": []
    },
    {
      "cell_type": "code",
      "execution_count": 1,
      "metadata": {
        "dotnet_interactive": {
          "language": "csharp"
        }
      },
      "source": [
        "class Person\n",
        "{\n",
        "  public DateTime BirthDate;\n",
        "}\n",
        "\n",
        "Person kim = new();\n",
        "kim.BirthDate = new(1967, 12, 26); // instead of: new DateTime(1967, 12, 26)\n",
        ""
      ],
      "outputs": []
    },
    {
      "cell_type": "markdown",
      "metadata": {},
      "source": [
        "## Getting default values for types\n",
        "\n",
        "The default value of a `string` is `null` which outputs as nothing."
      ]
    },
    {
      "cell_type": "code",
      "execution_count": 1,
      "metadata": {
        "dotnet_interactive": {
          "language": "csharp"
        }
      },
      "source": [
        "Console.WriteLine($\"default(int) = {default(int)}\"); \n",
        "Console.WriteLine($\"default(bool) = {default(bool)}\"); \n",
        "Console.WriteLine(\n",
        "  $\"default(DateTime) = {default(DateTime)}\"); \n",
        "Console.WriteLine(\n",
        "  $\"default(string) = {default(string)}\");"
      ],
      "outputs": [
        {
          "output_type": "execute_result",
          "data": {
            "text/plain": "default(int) = 0\n"
          },
          "execution_count": 1,
          "metadata": {}
        },
        {
          "output_type": "execute_result",
          "data": {
            "text/plain": "default(bool) = False\n"
          },
          "execution_count": 1,
          "metadata": {}
        },
        {
          "output_type": "execute_result",
          "data": {
            "text/plain": "default(DateTime) = 01/01/0001 00:00:00\n"
          },
          "execution_count": 1,
          "metadata": {}
        },
        {
          "output_type": "execute_result",
          "data": {
            "text/plain": "default(string) = \n"
          },
          "execution_count": 1,
          "metadata": {}
        }
      ]
    },
    {
      "cell_type": "code",
      "execution_count": 1,
      "metadata": {
        "dotnet_interactive": {
          "language": "csharp"
        }
      },
      "source": [
        "int number = 13;\n",
        "Console.WriteLine($\"number has been set to: {number}\");\n",
        "number = default;\n",
        "Console.WriteLine($\"number has been reset to its default: {number}\");"
      ],
      "outputs": [
        {
          "output_type": "execute_result",
          "data": {
            "text/plain": "number has been set to: 13\n"
          },
          "execution_count": 1,
          "metadata": {}
        },
        {
          "output_type": "execute_result",
          "data": {
            "text/plain": "number has been reset to its default: 0\n"
          },
          "execution_count": 1,
          "metadata": {}
        }
      ]
    },
    {
      "cell_type": "markdown",
      "metadata": {},
      "source": [
        "## Storing multiple values an array"
      ]
    },
    {
      "cell_type": "code",
      "execution_count": 1,
      "metadata": {
        "dotnet_interactive": {
          "language": "csharp"
        }
      },
      "source": [
        "string[] names; // can reference any array of strings\n",
        "\n",
        "// allocating memory for four strings in an array\n",
        "names = new string[4];\n",
        "\n",
        "// storing items at index positions\n",
        "names[0] = \"Kate\";\n",
        "names[1] = \"Jack\"; \n",
        "names[2] = \"Rebecca\"; \n",
        "names[3] = \"Tom\";\n",
        "\n",
        "// looping through the names\n",
        "for (int i = 0; i < names.Length; i++)\n",
        "{\n",
        "  // output the item at index position i\n",
        "  Console.WriteLine(names[i]);\n",
        "}"
      ],
      "outputs": [
        {
          "output_type": "execute_result",
          "data": {
            "text/plain": "Kate\n"
          },
          "execution_count": 1,
          "metadata": {}
        },
        {
          "output_type": "execute_result",
          "data": {
            "text/plain": "Jack\n"
          },
          "execution_count": 1,
          "metadata": {}
        },
        {
          "output_type": "execute_result",
          "data": {
            "text/plain": "Rebecca\n"
          },
          "execution_count": 1,
          "metadata": {}
        },
        {
          "output_type": "execute_result",
          "data": {
            "text/plain": "Tom\n"
          },
          "execution_count": 1,
          "metadata": {}
        }
      ]
    },
    {
      "cell_type": "markdown",
      "metadata": {},
      "source": [
        "## Making a value type nullable"
      ]
    },
    {
      "cell_type": "code",
      "execution_count": 1,
      "metadata": {
        "dotnet_interactive": {
          "language": "csharp"
        }
      },
      "source": [
        "int thisCannotBeNull = 4; \n",
        "// thisCannotBeNull = null; // compile error!\n",
        "\n",
        "int? thisCouldBeNull = null; \n",
        "Console.WriteLine(thisCouldBeNull); \n",
        "Console.WriteLine(thisCouldBeNull.GetValueOrDefault());\n",
        "\n",
        "thisCouldBeNull = 7; \n",
        "Console.WriteLine(thisCouldBeNull); \n",
        "Console.WriteLine(thisCouldBeNull.GetValueOrDefault());"
      ],
      "outputs": [
        {
          "output_type": "execute_result",
          "data": {
            "text/plain": "\n"
          },
          "execution_count": 1,
          "metadata": {}
        },
        {
          "output_type": "execute_result",
          "data": {
            "text/plain": "0\n"
          },
          "execution_count": 1,
          "metadata": {}
        },
        {
          "output_type": "execute_result",
          "data": {
            "text/plain": "7\n"
          },
          "execution_count": 1,
          "metadata": {}
        },
        {
          "output_type": "execute_result",
          "data": {
            "text/plain": "7\n"
          },
          "execution_count": 1,
          "metadata": {}
        }
      ]
    },
    {
      "cell_type": "markdown",
      "metadata": {},
      "source": [
        "## Checking for null"
      ]
    },
    {
      "cell_type": "code",
      "execution_count": 1,
      "metadata": {
        "dotnet_interactive": {
          "language": "csharp"
        }
      },
      "source": [
        "string authorName = null;\n",
        "\n",
        "// the following throws a NullReferenceException \n",
        "// int x = authorName.Length;\n",
        "\n",
        "// instead of throwing an exception, null is assigned to y \n",
        "int? y = authorName?.Length;\n",
        "\n",
        "Console.WriteLine($\"y is null: {y is null}\");\n",
        "\n",
        "// result will be 3 if authorName?.Length is null \n",
        "var result = authorName?.Length ?? 3; \n",
        "Console.WriteLine(result);"
      ],
      "outputs": [
        {
          "output_type": "execute_result",
          "data": {
            "text/plain": "y is null: True\n"
          },
          "execution_count": 1,
          "metadata": {}
        },
        {
          "output_type": "execute_result",
          "data": {
            "text/plain": "3\n"
          },
          "execution_count": 1,
          "metadata": {}
        }
      ]
    },
    {
      "cell_type": "markdown",
      "metadata": {},
      "source": [
        "## Formatting using numbered positional arguments"
      ]
    },
    {
      "cell_type": "code",
      "execution_count": 1,
      "metadata": {
        "dotnet_interactive": {
          "language": "csharp"
        }
      },
      "source": [
        "using static System.Console;"
      ],
      "outputs": []
    },
    {
      "cell_type": "code",
      "execution_count": 1,
      "metadata": {
        "dotnet_interactive": {
          "language": "csharp"
        }
      },
      "source": [
        "int numberOfApples = 12; \n",
        "decimal pricePerApple = 0.35M;\n",
        "\n",
        "WriteLine(\n",
        "  format: \"{0} apples costs {1:C}\", \n",
        "  arg0: numberOfApples,\n",
        "  arg1: pricePerApple * numberOfApples);\n",
        "\n",
        "string formatted = string.Format(\n",
        "  format: \"{0} apples costs {1:C}\",\n",
        "  arg0: numberOfApples,\n",
        "  arg1: pricePerApple * numberOfApples);\n",
        "\n",
        "//WriteToFile(formatted); // writes the string into a file"
      ],
      "outputs": [
        {
          "output_type": "execute_result",
          "data": {
            "text/plain": "12 apples costs ¤4.20\n"
          },
          "execution_count": 1,
          "metadata": {}
        }
      ]
    },
    {
      "cell_type": "markdown",
      "metadata": {},
      "source": [
        "## Formatting using interpolated strings"
      ]
    },
    {
      "cell_type": "code",
      "execution_count": 1,
      "metadata": {
        "dotnet_interactive": {
          "language": "csharp"
        }
      },
      "source": [
        "WriteLine($\"{numberOfApples} apples costs {pricePerApple * numberOfApples:C}\");"
      ],
      "outputs": [
        {
          "output_type": "execute_result",
          "data": {
            "text/plain": "12 apples costs ¤4.20\n"
          },
          "execution_count": 1,
          "metadata": {}
        }
      ]
    },
    {
      "cell_type": "markdown",
      "metadata": {},
      "source": [
        "## Understanding format strings"
      ]
    },
    {
      "cell_type": "code",
      "execution_count": 1,
      "metadata": {
        "dotnet_interactive": {
          "language": "csharp"
        }
      },
      "source": [
        "string applesText = \"Apples\"; \n",
        "int applesCount = 1234;\n",
        "\n",
        "string bananasText = \"Bananas\"; \n",
        "int bananasCount = 56789;\n",
        "\n",
        "WriteLine(\n",
        "  format: \"{0,-8} {1,6:N0}\",\n",
        "  arg0: \"Name\",\n",
        "  arg1: \"Count\");\n",
        "\n",
        "WriteLine(\n",
        "  format: \"{0,-8} {1,6:N0}\",\n",
        "  arg0: applesText,\n",
        "  arg1: applesCount);\n",
        "\n",
        "WriteLine(\n",
        "  format: \"{0,-8} {1,6:N0}\",\n",
        "  arg0: bananasText,\n",
        "  arg1: bananasCount);"
      ],
      "outputs": [
        {
          "output_type": "execute_result",
          "data": {
            "text/plain": "Name      Count\n"
          },
          "execution_count": 1,
          "metadata": {}
        },
        {
          "output_type": "execute_result",
          "data": {
            "text/plain": "Apples    1,234\n"
          },
          "execution_count": 1,
          "metadata": {}
        },
        {
          "output_type": "execute_result",
          "data": {
            "text/plain": "Bananas  56,789\n"
          },
          "execution_count": 1,
          "metadata": {}
        }
      ]
    },
    {
      "cell_type": "markdown",
      "metadata": {},
      "source": [
        "## Getting text input from the user\n",
        "\n",
        ".NET Interactive notebooks do not support `ReadLine()` so in the following code we must set literal string values for the two variables."
      ]
    },
    {
      "cell_type": "code",
      "execution_count": 1,
      "metadata": {
        "dotnet_interactive": {
          "language": "csharp"
        }
      },
      "source": [
        "Write(\"Type your first name and press ENTER: \"); \n",
        "string firstName = \"Gary\"; // cannot use Console.ReadLine()\n",
        "\n",
        "Write(\"Type your age and press ENTER: \"); \n",
        "string age = \"34\"; // cannot use Console.ReadLine()\n",
        "\n",
        "WriteLine(\n",
        "  $\"Hello {firstName}, you look good for {age}.\");"
      ],
      "outputs": [
        {
          "output_type": "execute_result",
          "data": {
            "text/plain": "Type your first name and press ENTER: "
          },
          "execution_count": 1,
          "metadata": {}
        },
        {
          "output_type": "execute_result",
          "data": {
            "text/plain": "Type your age and press ENTER: "
          },
          "execution_count": 1,
          "metadata": {}
        },
        {
          "output_type": "execute_result",
          "data": {
            "text/plain": "Hello Gary, you look good for 34.\n"
          },
          "execution_count": 1,
          "metadata": {}
        }
      ]
    },
    {
      "cell_type": "markdown",
      "metadata": {},
      "source": [
        "## Getting key input from the user\n",
        "\n",
        "`Console.ReadKey()` does not work in a .NET notebook."
      ]
    },
    {
      "cell_type": "markdown",
      "metadata": {},
      "source": [
        "## Getting arguments\n",
        "\n",
        "Arguments cannot be passed to a .NET notebook."
      ]
    },
    {
      "cell_type": "markdown",
      "metadata": {},
      "source": [
        "## Exercise 3 - Practice number sizes and ranges"
      ]
    },
    {
      "cell_type": "code",
      "execution_count": 1,
      "metadata": {
        "dotnet_interactive": {
          "language": "csharp"
        }
      },
      "source": [
        "WriteLine(\"--------------------------------------------------------------------------\");\n",
        "WriteLine(\"Type    Byte(s) of memory               Min                            Max\");\n",
        "WriteLine(\"--------------------------------------------------------------------------\");\n",
        "WriteLine($\"sbyte   {sizeof(sbyte),-4} {sbyte.MinValue,30} {sbyte.MaxValue,30}\");\n",
        "WriteLine($\"byte    {sizeof(byte),-4} {byte.MinValue,30} {byte.MaxValue,30}\");\n",
        "WriteLine($\"short   {sizeof(short),-4} {short.MinValue,30} {short.MaxValue,30}\");\n",
        "WriteLine($\"ushort  {sizeof(ushort),-4} {ushort.MinValue,30} {ushort.MaxValue,30}\");\n",
        "WriteLine($\"int     {sizeof(int),-4} {int.MinValue,30} {int.MaxValue,30}\");\n",
        "WriteLine($\"uint    {sizeof(uint),-4} {uint.MinValue,30} {uint.MaxValue,30}\");\n",
        "WriteLine($\"long    {sizeof(long),-4} {long.MinValue,30} {long.MaxValue,30}\");\n",
        "WriteLine($\"ulong   {sizeof(ulong),-4} {ulong.MinValue,30} {ulong.MaxValue,30}\");\n",
        "WriteLine($\"float   {sizeof(float),-4} {float.MinValue,30} {float.MaxValue,30}\");\n",
        "WriteLine($\"double  {sizeof(double),-4} {double.MinValue,30} {double.MaxValue,30}\");\n",
        "WriteLine($\"decimal {sizeof(decimal),-4} {decimal.MinValue,30} {decimal.MaxValue,30}\");\n",
        "WriteLine(\"--------------------------------------------------------------------------\");"
      ],
      "outputs": [
        {
          "output_type": "execute_result",
          "data": {
            "text/plain": "--------------------------------------------------------------------------\n"
          },
          "execution_count": 1,
          "metadata": {}
        },
        {
          "output_type": "execute_result",
          "data": {
            "text/plain": "Type    Byte(s) of memory               Min                            Max\n"
          },
          "execution_count": 1,
          "metadata": {}
        },
        {
          "output_type": "execute_result",
          "data": {
            "text/plain": "--------------------------------------------------------------------------\n"
          },
          "execution_count": 1,
          "metadata": {}
        },
        {
          "output_type": "execute_result",
          "data": {
            "text/plain": "sbyte   1                              -128                            127\n"
          },
          "execution_count": 1,
          "metadata": {}
        },
        {
          "output_type": "execute_result",
          "data": {
            "text/plain": "byte    1                                 0                            255\n"
          },
          "execution_count": 1,
          "metadata": {}
        },
        {
          "output_type": "execute_result",
          "data": {
            "text/plain": "short   2                            -32768                          32767\n"
          },
          "execution_count": 1,
          "metadata": {}
        },
        {
          "output_type": "execute_result",
          "data": {
            "text/plain": "ushort  2                                 0                          65535\n"
          },
          "execution_count": 1,
          "metadata": {}
        },
        {
          "output_type": "execute_result",
          "data": {
            "text/plain": "int     4                       -2147483648                     2147483647\n"
          },
          "execution_count": 1,
          "metadata": {}
        },
        {
          "output_type": "execute_result",
          "data": {
            "text/plain": "uint    4                                 0                     4294967295\n"
          },
          "execution_count": 1,
          "metadata": {}
        },
        {
          "output_type": "execute_result",
          "data": {
            "text/plain": "long    8              -9223372036854775808            9223372036854775807\n"
          },
          "execution_count": 1,
          "metadata": {}
        },
        {
          "output_type": "execute_result",
          "data": {
            "text/plain": "ulong   8                                 0           18446744073709551615\n"
          },
          "execution_count": 1,
          "metadata": {}
        },
        {
          "output_type": "execute_result",
          "data": {
            "text/plain": "float   4                    -3.4028235E+38                  3.4028235E+38\n"
          },
          "execution_count": 1,
          "metadata": {}
        },
        {
          "output_type": "execute_result",
          "data": {
            "text/plain": "double  8          -1.7976931348623157E+308        1.7976931348623157E+308\n"
          },
          "execution_count": 1,
          "metadata": {}
        },
        {
          "output_type": "execute_result",
          "data": {
            "text/plain": "decimal 16   -79228162514264337593543950335  79228162514264337593543950335\n"
          },
          "execution_count": 1,
          "metadata": {}
        },
        {
          "output_type": "execute_result",
          "data": {
            "text/plain": "--------------------------------------------------------------------------\n"
          },
          "execution_count": 1,
          "metadata": {}
        }
      ]
    }
  ],
  "metadata": {
    "kernelspec": {
      "display_name": ".NET (C#)",
      "language": "C#",
      "name": ".net-csharp"
    },
    "language_info": {
      "file_extension": ".cs",
      "mimetype": "text/x-csharp",
      "name": "C#",
      "pygments_lexer": "csharp",
      "version": "8.0"
    }
  },
  "nbformat": 4,
  "nbformat_minor": 4
}