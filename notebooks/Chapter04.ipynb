{
  "cells": [
    {
      "cell_type": "markdown",
      "metadata": {},
      "source": [
        "# Chapter 4 - Writing, Debugging, and Testing Functions"
      ]
    },
    {
      "cell_type": "code",
      "execution_count": 1,
      "metadata": {
        "dotnet_interactive": {
          "language": "csharp"
        }
      },
      "source": [
        "// allow simplified WriteLine and other console method calls\n",
        "using static System.Console;"
      ],
      "outputs": []
    },
    {
      "cell_type": "markdown",
      "metadata": {},
      "source": [
        "## Writing a times table function"
      ]
    },
    {
      "cell_type": "code",
      "execution_count": 1,
      "metadata": {
        "dotnet_interactive": {
          "language": "csharp"
        }
      },
      "source": [
        "static void TimesTable(byte number)\n",
        "{\n",
        "  WriteLine($\"This is the {number} times table:\");\n",
        "\n",
        "  for (int row = 1; row <= 12; row++)\n",
        "  {\n",
        "    WriteLine($\"{row} x {number} = {row * number}\");\n",
        "  }\n",
        "  WriteLine();\n",
        "}"
      ],
      "outputs": []
    },
    {
      "cell_type": "code",
      "execution_count": 1,
      "metadata": {
        "dotnet_interactive": {
          "language": "csharp"
        }
      },
      "source": [
        "TimesTable(6) // semicolon is optional in a .NET notebook"
      ],
      "outputs": [
        {
          "output_type": "execute_result",
          "data": {
            "text/plain": "This is the 6 times table:\n"
          },
          "execution_count": 1,
          "metadata": {}
        },
        {
          "output_type": "execute_result",
          "data": {
            "text/plain": "1 x 6 = 6\n"
          },
          "execution_count": 1,
          "metadata": {}
        },
        {
          "output_type": "execute_result",
          "data": {
            "text/plain": "2 x 6 = 12\n"
          },
          "execution_count": 1,
          "metadata": {}
        },
        {
          "output_type": "execute_result",
          "data": {
            "text/plain": "3 x 6 = 18\n"
          },
          "execution_count": 1,
          "metadata": {}
        },
        {
          "output_type": "execute_result",
          "data": {
            "text/plain": "4 x 6 = 24\n"
          },
          "execution_count": 1,
          "metadata": {}
        },
        {
          "output_type": "execute_result",
          "data": {
            "text/plain": "5 x 6 = 30\n"
          },
          "execution_count": 1,
          "metadata": {}
        },
        {
          "output_type": "execute_result",
          "data": {
            "text/plain": "6 x 6 = 36\n"
          },
          "execution_count": 1,
          "metadata": {}
        },
        {
          "output_type": "execute_result",
          "data": {
            "text/plain": "7 x 6 = 42\n"
          },
          "execution_count": 1,
          "metadata": {}
        },
        {
          "output_type": "execute_result",
          "data": {
            "text/plain": "8 x 6 = 48\n"
          },
          "execution_count": 1,
          "metadata": {}
        },
        {
          "output_type": "execute_result",
          "data": {
            "text/plain": "9 x 6 = 54\n"
          },
          "execution_count": 1,
          "metadata": {}
        },
        {
          "output_type": "execute_result",
          "data": {
            "text/plain": "10 x 6 = 60\n"
          },
          "execution_count": 1,
          "metadata": {}
        },
        {
          "output_type": "execute_result",
          "data": {
            "text/plain": "11 x 6 = 66\n"
          },
          "execution_count": 1,
          "metadata": {}
        },
        {
          "output_type": "execute_result",
          "data": {
            "text/plain": "12 x 6 = 72\n"
          },
          "execution_count": 1,
          "metadata": {}
        },
        {
          "output_type": "execute_result",
          "data": {
            "text/plain": "\n"
          },
          "execution_count": 1,
          "metadata": {}
        }
      ]
    },
    {
      "cell_type": "code",
      "execution_count": 1,
      "metadata": {
        "dotnet_interactive": {
          "language": "csharp"
        }
      },
      "source": [
        "TimesTable(number: 87) // optional to specify the parameter name"
      ],
      "outputs": [
        {
          "output_type": "execute_result",
          "data": {
            "text/plain": "This is the 87 times table:\n"
          },
          "execution_count": 1,
          "metadata": {}
        },
        {
          "output_type": "execute_result",
          "data": {
            "text/plain": "1 x 87 = 87\n"
          },
          "execution_count": 1,
          "metadata": {}
        },
        {
          "output_type": "execute_result",
          "data": {
            "text/plain": "2 x 87 = 174\n"
          },
          "execution_count": 1,
          "metadata": {}
        },
        {
          "output_type": "execute_result",
          "data": {
            "text/plain": "3 x 87 = 261\n"
          },
          "execution_count": 1,
          "metadata": {}
        },
        {
          "output_type": "execute_result",
          "data": {
            "text/plain": "4 x 87 = 348\n"
          },
          "execution_count": 1,
          "metadata": {}
        },
        {
          "output_type": "execute_result",
          "data": {
            "text/plain": "5 x 87 = 435\n"
          },
          "execution_count": 1,
          "metadata": {}
        },
        {
          "output_type": "execute_result",
          "data": {
            "text/plain": "6 x 87 = 522\n"
          },
          "execution_count": 1,
          "metadata": {}
        },
        {
          "output_type": "execute_result",
          "data": {
            "text/plain": "7 x 87 = 609\n"
          },
          "execution_count": 1,
          "metadata": {}
        },
        {
          "output_type": "execute_result",
          "data": {
            "text/plain": "8 x 87 = 696\n"
          },
          "execution_count": 1,
          "metadata": {}
        },
        {
          "output_type": "execute_result",
          "data": {
            "text/plain": "9 x 87 = 783\n"
          },
          "execution_count": 1,
          "metadata": {}
        },
        {
          "output_type": "execute_result",
          "data": {
            "text/plain": "10 x 87 = 870\n"
          },
          "execution_count": 1,
          "metadata": {}
        },
        {
          "output_type": "execute_result",
          "data": {
            "text/plain": "11 x 87 = 957\n"
          },
          "execution_count": 1,
          "metadata": {}
        },
        {
          "output_type": "execute_result",
          "data": {
            "text/plain": "12 x 87 = 1044\n"
          },
          "execution_count": 1,
          "metadata": {}
        },
        {
          "output_type": "execute_result",
          "data": {
            "text/plain": "\n"
          },
          "execution_count": 1,
          "metadata": {}
        }
      ]
    },
    {
      "cell_type": "markdown",
      "metadata": {},
      "source": [
        "## Writing a function that returns a value"
      ]
    },
    {
      "cell_type": "code",
      "execution_count": 1,
      "metadata": {
        "dotnet_interactive": {
          "language": "csharp"
        }
      },
      "source": [
        "static decimal CalculateTax(\n",
        "  decimal amount, string twoLetterRegionCode)\n",
        "{\n",
        "  decimal rate = 0.0M;\n",
        "\n",
        "  switch (twoLetterRegionCode)\n",
        "  {\n",
        "    case \"CH\": // Switzerland\n",
        "      rate = 0.08M;\n",
        "      break;\n",
        "    case \"DK\": // Denmark\n",
        "    case \"NO\": // Norway\n",
        "      rate = 0.25M;\n",
        "      break;\n",
        "    case \"GB\": // United Kingdom\n",
        "    case \"FR\": // France\n",
        "      rate = 0.2M;\n",
        "      break;\n",
        "    case \"HU\": // Hungary\n",
        "      rate = 0.27M;\n",
        "      break;\n",
        "    case \"OR\": // Oregon\n",
        "    case \"AK\": // Alaska\n",
        "    case \"MT\": // Montana\n",
        "      rate = 0.0M;\n",
        "      break;\n",
        "    case \"ND\": // North Dakota\n",
        "    case \"WI\": // Wisconsin\n",
        "    case \"ME\": // Maine\n",
        "    case \"VA\": // Virginia\n",
        "      rate = 0.05M;\n",
        "      break;\n",
        "    case \"CA\": // California\n",
        "      rate = 0.0825M;\n",
        "      break;\n",
        "    default: // most US states\n",
        "      rate = 0.06M;\n",
        "      break;\n",
        "  }\n",
        "\n",
        "  return amount * rate;\n",
        "}"
      ],
      "outputs": []
    },
    {
      "cell_type": "code",
      "execution_count": 1,
      "metadata": {
        "dotnet_interactive": {
          "language": "csharp"
        }
      },
      "source": [
        "decimal taxToPay = CalculateTax(149, \"FR\"); \n",
        "WriteLine($\"You must pay {taxToPay} in tax.\");"
      ],
      "outputs": [
        {
          "output_type": "execute_result",
          "data": {
            "text/plain": "You must pay 29.8 in tax.\n"
          },
          "execution_count": 1,
          "metadata": {}
        }
      ]
    },
    {
      "cell_type": "markdown",
      "metadata": {},
      "source": [
        "## Converting numbers from cardinal to ordinal"
      ]
    },
    {
      "cell_type": "code",
      "execution_count": 1,
      "metadata": {
        "dotnet_interactive": {
          "language": "csharp"
        }
      },
      "source": [
        "/// <summary>\n",
        "/// Pass a 32-bit integer and it will be converted into its ordinal equivalent.\n",
        "/// </summary>\n",
        "/// <param name=\"number\">Number is a cardinal value e.g. 1, 2, 3, and so on.</param>\n",
        "/// <returns>Number as an ordinal value e.g. 1st, 2nd, 3rd, and so on.</ returns>\n",
        "static string CardinalToOrdinal(int number)\n",
        "{\n",
        "  switch (number)\n",
        "  {\n",
        "    case 11: // special cases for 11th to 13th\n",
        "    case 12:\n",
        "    case 13:\n",
        "      return $\"{number}th\";\n",
        "    default:\n",
        "      int lastDigit = number % 10;\n",
        "\n",
        "      string suffix = lastDigit switch\n",
        "      {\n",
        "        1 => \"st\",\n",
        "        2 => \"nd\",\n",
        "        3 => \"rd\",\n",
        "        _ => \"th\"\n",
        "      };\n",
        "      return $\"{number}{suffix}\";\n",
        "  }\n",
        "}"
      ],
      "outputs": []
    },
    {
      "cell_type": "code",
      "execution_count": 1,
      "metadata": {
        "dotnet_interactive": {
          "language": "csharp"
        }
      },
      "source": [
        "static void RunCardinalToOrdinal()\n",
        "{\n",
        "  for (int number = 1; number <= 40; number++)\n",
        "  {\n",
        "    Write($\"{CardinalToOrdinal(number)} \");\n",
        "  }\n",
        "  WriteLine();\n",
        "}"
      ],
      "outputs": []
    },
    {
      "cell_type": "code",
      "execution_count": 1,
      "metadata": {
        "dotnet_interactive": {
          "language": "csharp"
        }
      },
      "source": [
        "RunCardinalToOrdinal()"
      ],
      "outputs": []
    },
    {
      "cell_type": "markdown",
      "metadata": {},
      "source": [
        "## Calculating factorials with recursion"
      ]
    },
    {
      "cell_type": "code",
      "execution_count": 1,
      "metadata": {
        "dotnet_interactive": {
          "language": "csharp"
        }
      },
      "source": [
        "static int Factorial(int number)\n",
        "{\n",
        "  if (number < 1)\n",
        "  {\n",
        "    return 0;\n",
        "  }\n",
        "  else if (number == 1)\n",
        "  {\n",
        "    return 1;\n",
        "  }\n",
        "  else\n",
        "  {\n",
        "    checked // for overflow\n",
        "    {\n",
        "      return number * Factorial(number - 1);\n",
        "    }\n",
        "  }\n",
        "}"
      ],
      "outputs": []
    },
    {
      "cell_type": "code",
      "execution_count": 1,
      "metadata": {
        "dotnet_interactive": {
          "language": "csharp"
        }
      },
      "source": [
        "static void RunFactorial()\n",
        "{\n",
        "  for (int i = 1; i < 15; i++)\n",
        "  {\n",
        "    try\n",
        "    {\n",
        "      WriteLine($\"{i}! = {Factorial(i):N0}\");\n",
        "    }\n",
        "    catch (System.OverflowException)\n",
        "    {\n",
        "      WriteLine($\"{i}! is too big for a 32-bit integer.\");\n",
        "    }\n",
        "  }\n",
        "}"
      ],
      "outputs": []
    },
    {
      "cell_type": "code",
      "execution_count": 1,
      "metadata": {
        "dotnet_interactive": {
          "language": "csharp"
        }
      },
      "source": [
        "RunFactorial()"
      ],
      "outputs": [
        {
          "output_type": "execute_result",
          "data": {
            "text/plain": "1! = 1\n"
          },
          "execution_count": 1,
          "metadata": {}
        },
        {
          "output_type": "execute_result",
          "data": {
            "text/plain": "2! = 2\n"
          },
          "execution_count": 1,
          "metadata": {}
        },
        {
          "output_type": "execute_result",
          "data": {
            "text/plain": "3! = 6\n"
          },
          "execution_count": 1,
          "metadata": {}
        },
        {
          "output_type": "execute_result",
          "data": {
            "text/plain": "4! = 24\n"
          },
          "execution_count": 1,
          "metadata": {}
        },
        {
          "output_type": "execute_result",
          "data": {
            "text/plain": "5! = 120\n"
          },
          "execution_count": 1,
          "metadata": {}
        },
        {
          "output_type": "execute_result",
          "data": {
            "text/plain": "6! = 720\n"
          },
          "execution_count": 1,
          "metadata": {}
        },
        {
          "output_type": "execute_result",
          "data": {
            "text/plain": "7! = 5,040\n"
          },
          "execution_count": 1,
          "metadata": {}
        },
        {
          "output_type": "execute_result",
          "data": {
            "text/plain": "8! = 40,320\n"
          },
          "execution_count": 1,
          "metadata": {}
        },
        {
          "output_type": "execute_result",
          "data": {
            "text/plain": "9! = 362,880\n"
          },
          "execution_count": 1,
          "metadata": {}
        },
        {
          "output_type": "execute_result",
          "data": {
            "text/plain": "10! = 3,628,800\n"
          },
          "execution_count": 1,
          "metadata": {}
        },
        {
          "output_type": "execute_result",
          "data": {
            "text/plain": "11! = 39,916,800\n"
          },
          "execution_count": 1,
          "metadata": {}
        },
        {
          "output_type": "execute_result",
          "data": {
            "text/plain": "12! = 479,001,600\n"
          },
          "execution_count": 1,
          "metadata": {}
        },
        {
          "output_type": "execute_result",
          "data": {
            "text/plain": "13! is too big for a 32-bit integer.\n"
          },
          "execution_count": 1,
          "metadata": {}
        },
        {
          "output_type": "execute_result",
          "data": {
            "text/plain": "14! is too big for a 32-bit integer.\n"
          },
          "execution_count": 1,
          "metadata": {}
        }
      ]
    },
    {
      "cell_type": "markdown",
      "metadata": {},
      "source": [
        "## Using lambdas in function implementations"
      ]
    },
    {
      "cell_type": "code",
      "execution_count": 1,
      "metadata": {
        "dotnet_interactive": {
          "language": "csharp"
        }
      },
      "source": [
        "static int FibImperative(int term)\n",
        "{\n",
        "  if (term == 1)\n",
        "  {\n",
        "    return 0;\n",
        "  }\n",
        "  else if (term == 2)\n",
        "  {\n",
        "    return 1;\n",
        "  }\n",
        "  else\n",
        "  {\n",
        "    return FibImperative(term - 1) + FibImperative(term - 2);\n",
        "  }\n",
        "}"
      ],
      "outputs": []
    },
    {
      "cell_type": "code",
      "execution_count": 1,
      "metadata": {
        "dotnet_interactive": {
          "language": "csharp"
        }
      },
      "source": [
        "static void RunFibImperative()\n",
        "{\n",
        "  for (int i = 1; i <= 30; i++)\n",
        "  {\n",
        "    WriteLine(\"The {0} term of the Fibonacci sequence is {1:N0}.\",\n",
        "      arg0: CardinalToOrdinal(i),\n",
        "      arg1: FibImperative(term: i));\n",
        "  }\n",
        "}"
      ],
      "outputs": []
    },
    {
      "cell_type": "code",
      "execution_count": 1,
      "metadata": {
        "dotnet_interactive": {
          "language": "csharp"
        }
      },
      "source": [
        "RunFibImperative()"
      ],
      "outputs": [
        {
          "output_type": "execute_result",
          "data": {
            "text/plain": "The 1st term of the Fibonacci sequence is 0.\n"
          },
          "execution_count": 1,
          "metadata": {}
        },
        {
          "output_type": "execute_result",
          "data": {
            "text/plain": "The 2nd term of the Fibonacci sequence is 1.\n"
          },
          "execution_count": 1,
          "metadata": {}
        },
        {
          "output_type": "execute_result",
          "data": {
            "text/plain": "The 3rd term of the Fibonacci sequence is 1.\n"
          },
          "execution_count": 1,
          "metadata": {}
        },
        {
          "output_type": "execute_result",
          "data": {
            "text/plain": "The 4th term of the Fibonacci sequence is 2.\n"
          },
          "execution_count": 1,
          "metadata": {}
        },
        {
          "output_type": "execute_result",
          "data": {
            "text/plain": "The 5th term of the Fibonacci sequence is 3.\n"
          },
          "execution_count": 1,
          "metadata": {}
        },
        {
          "output_type": "execute_result",
          "data": {
            "text/plain": "The 6th term of the Fibonacci sequence is 5.\n"
          },
          "execution_count": 1,
          "metadata": {}
        },
        {
          "output_type": "execute_result",
          "data": {
            "text/plain": "The 7th term of the Fibonacci sequence is 8.\n"
          },
          "execution_count": 1,
          "metadata": {}
        },
        {
          "output_type": "execute_result",
          "data": {
            "text/plain": "The 8th term of the Fibonacci sequence is 13.\n"
          },
          "execution_count": 1,
          "metadata": {}
        },
        {
          "output_type": "execute_result",
          "data": {
            "text/plain": "The 9th term of the Fibonacci sequence is 21.\n"
          },
          "execution_count": 1,
          "metadata": {}
        },
        {
          "output_type": "execute_result",
          "data": {
            "text/plain": "The 10th term of the Fibonacci sequence is 34.\n"
          },
          "execution_count": 1,
          "metadata": {}
        },
        {
          "output_type": "execute_result",
          "data": {
            "text/plain": "The 11th term of the Fibonacci sequence is 55.\n"
          },
          "execution_count": 1,
          "metadata": {}
        },
        {
          "output_type": "execute_result",
          "data": {
            "text/plain": "The 12th term of the Fibonacci sequence is 89.\n"
          },
          "execution_count": 1,
          "metadata": {}
        },
        {
          "output_type": "execute_result",
          "data": {
            "text/plain": "The 13th term of the Fibonacci sequence is 144.\n"
          },
          "execution_count": 1,
          "metadata": {}
        },
        {
          "output_type": "execute_result",
          "data": {
            "text/plain": "The 14th term of the Fibonacci sequence is 233.\n"
          },
          "execution_count": 1,
          "metadata": {}
        },
        {
          "output_type": "execute_result",
          "data": {
            "text/plain": "The 15th term of the Fibonacci sequence is 377.\n"
          },
          "execution_count": 1,
          "metadata": {}
        },
        {
          "output_type": "execute_result",
          "data": {
            "text/plain": "The 16th term of the Fibonacci sequence is 610.\n"
          },
          "execution_count": 1,
          "metadata": {}
        },
        {
          "output_type": "execute_result",
          "data": {
            "text/plain": "The 17th term of the Fibonacci sequence is 987.\n"
          },
          "execution_count": 1,
          "metadata": {}
        },
        {
          "output_type": "execute_result",
          "data": {
            "text/plain": "The 18th term of the Fibonacci sequence is 1,597.\n"
          },
          "execution_count": 1,
          "metadata": {}
        },
        {
          "output_type": "execute_result",
          "data": {
            "text/plain": "The 19th term of the Fibonacci sequence is 2,584.\n"
          },
          "execution_count": 1,
          "metadata": {}
        },
        {
          "output_type": "execute_result",
          "data": {
            "text/plain": "The 20th term of the Fibonacci sequence is 4,181.\n"
          },
          "execution_count": 1,
          "metadata": {}
        },
        {
          "output_type": "execute_result",
          "data": {
            "text/plain": "The 21st term of the Fibonacci sequence is 6,765.\n"
          },
          "execution_count": 1,
          "metadata": {}
        },
        {
          "output_type": "execute_result",
          "data": {
            "text/plain": "The 22nd term of the Fibonacci sequence is 10,946.\n"
          },
          "execution_count": 1,
          "metadata": {}
        },
        {
          "output_type": "execute_result",
          "data": {
            "text/plain": "The 23rd term of the Fibonacci sequence is 17,711.\n"
          },
          "execution_count": 1,
          "metadata": {}
        },
        {
          "output_type": "execute_result",
          "data": {
            "text/plain": "The 24th term of the Fibonacci sequence is 28,657.\n"
          },
          "execution_count": 1,
          "metadata": {}
        },
        {
          "output_type": "execute_result",
          "data": {
            "text/plain": "The 25th term of the Fibonacci sequence is 46,368.\n"
          },
          "execution_count": 1,
          "metadata": {}
        },
        {
          "output_type": "execute_result",
          "data": {
            "text/plain": "The 26th term of the Fibonacci sequence is 75,025.\n"
          },
          "execution_count": 1,
          "metadata": {}
        },
        {
          "output_type": "execute_result",
          "data": {
            "text/plain": "The 27th term of the Fibonacci sequence is 121,393.\n"
          },
          "execution_count": 1,
          "metadata": {}
        },
        {
          "output_type": "execute_result",
          "data": {
            "text/plain": "The 28th term of the Fibonacci sequence is 196,418.\n"
          },
          "execution_count": 1,
          "metadata": {}
        },
        {
          "output_type": "execute_result",
          "data": {
            "text/plain": "The 29th term of the Fibonacci sequence is 317,811.\n"
          },
          "execution_count": 1,
          "metadata": {}
        },
        {
          "output_type": "execute_result",
          "data": {
            "text/plain": "The 30th term of the Fibonacci sequence is 514,229.\n"
          },
          "execution_count": 1,
          "metadata": {}
        }
      ]
    },
    {
      "cell_type": "code",
      "execution_count": 1,
      "metadata": {
        "dotnet_interactive": {
          "language": "csharp"
        }
      },
      "source": [
        "static int FibFunctional(int term) => \n",
        "  term switch\n",
        "  {\n",
        "    1 => 0,\n",
        "    2 => 1,\n",
        "    _ => FibFunctional(term - 1) + FibFunctional(term - 2)\n",
        "  };"
      ],
      "outputs": []
    },
    {
      "cell_type": "code",
      "execution_count": 1,
      "metadata": {
        "dotnet_interactive": {
          "language": "csharp"
        }
      },
      "source": [
        "static void RunFibFunctional()\n",
        "{\n",
        "  for (int i = 1; i <= 30; i++)\n",
        "  {\n",
        "    WriteLine(\"The {0} term of the Fibonacci sequence is {1:N0}.\",\n",
        "      arg0: CardinalToOrdinal(i),\n",
        "      arg1: FibFunctional(term: i));\n",
        "  }\n",
        "}"
      ],
      "outputs": []
    },
    {
      "cell_type": "code",
      "execution_count": 1,
      "metadata": {
        "dotnet_interactive": {
          "language": "csharp"
        }
      },
      "source": [
        "RunFibFunctional()"
      ],
      "outputs": [
        {
          "output_type": "execute_result",
          "data": {
            "text/plain": "The 1st term of the Fibonacci sequence is 0.\n"
          },
          "execution_count": 1,
          "metadata": {}
        },
        {
          "output_type": "execute_result",
          "data": {
            "text/plain": "The 2nd term of the Fibonacci sequence is 1.\n"
          },
          "execution_count": 1,
          "metadata": {}
        },
        {
          "output_type": "execute_result",
          "data": {
            "text/plain": "The 3rd term of the Fibonacci sequence is 1.\n"
          },
          "execution_count": 1,
          "metadata": {}
        },
        {
          "output_type": "execute_result",
          "data": {
            "text/plain": "The 4th term of the Fibonacci sequence is 2.\n"
          },
          "execution_count": 1,
          "metadata": {}
        },
        {
          "output_type": "execute_result",
          "data": {
            "text/plain": "The 5th term of the Fibonacci sequence is 3.\n"
          },
          "execution_count": 1,
          "metadata": {}
        },
        {
          "output_type": "execute_result",
          "data": {
            "text/plain": "The 6th term of the Fibonacci sequence is 5.\n"
          },
          "execution_count": 1,
          "metadata": {}
        },
        {
          "output_type": "execute_result",
          "data": {
            "text/plain": "The 7th term of the Fibonacci sequence is 8.\n"
          },
          "execution_count": 1,
          "metadata": {}
        },
        {
          "output_type": "execute_result",
          "data": {
            "text/plain": "The 8th term of the Fibonacci sequence is 13.\n"
          },
          "execution_count": 1,
          "metadata": {}
        },
        {
          "output_type": "execute_result",
          "data": {
            "text/plain": "The 9th term of the Fibonacci sequence is 21.\n"
          },
          "execution_count": 1,
          "metadata": {}
        },
        {
          "output_type": "execute_result",
          "data": {
            "text/plain": "The 10th term of the Fibonacci sequence is 34.\n"
          },
          "execution_count": 1,
          "metadata": {}
        },
        {
          "output_type": "execute_result",
          "data": {
            "text/plain": "The 11th term of the Fibonacci sequence is 55.\n"
          },
          "execution_count": 1,
          "metadata": {}
        },
        {
          "output_type": "execute_result",
          "data": {
            "text/plain": "The 12th term of the Fibonacci sequence is 89.\n"
          },
          "execution_count": 1,
          "metadata": {}
        },
        {
          "output_type": "execute_result",
          "data": {
            "text/plain": "The 13th term of the Fibonacci sequence is 144.\n"
          },
          "execution_count": 1,
          "metadata": {}
        },
        {
          "output_type": "execute_result",
          "data": {
            "text/plain": "The 14th term of the Fibonacci sequence is 233.\n"
          },
          "execution_count": 1,
          "metadata": {}
        },
        {
          "output_type": "execute_result",
          "data": {
            "text/plain": "The 15th term of the Fibonacci sequence is 377.\n"
          },
          "execution_count": 1,
          "metadata": {}
        },
        {
          "output_type": "execute_result",
          "data": {
            "text/plain": "The 16th term of the Fibonacci sequence is 610.\n"
          },
          "execution_count": 1,
          "metadata": {}
        },
        {
          "output_type": "execute_result",
          "data": {
            "text/plain": "The 17th term of the Fibonacci sequence is 987.\n"
          },
          "execution_count": 1,
          "metadata": {}
        },
        {
          "output_type": "execute_result",
          "data": {
            "text/plain": "The 18th term of the Fibonacci sequence is 1,597.\n"
          },
          "execution_count": 1,
          "metadata": {}
        },
        {
          "output_type": "execute_result",
          "data": {
            "text/plain": "The 19th term of the Fibonacci sequence is 2,584.\n"
          },
          "execution_count": 1,
          "metadata": {}
        },
        {
          "output_type": "execute_result",
          "data": {
            "text/plain": "The 20th term of the Fibonacci sequence is 4,181.\n"
          },
          "execution_count": 1,
          "metadata": {}
        },
        {
          "output_type": "execute_result",
          "data": {
            "text/plain": "The 21st term of the Fibonacci sequence is 6,765.\n"
          },
          "execution_count": 1,
          "metadata": {}
        },
        {
          "output_type": "execute_result",
          "data": {
            "text/plain": "The 22nd term of the Fibonacci sequence is 10,946.\n"
          },
          "execution_count": 1,
          "metadata": {}
        },
        {
          "output_type": "execute_result",
          "data": {
            "text/plain": "The 23rd term of the Fibonacci sequence is 17,711.\n"
          },
          "execution_count": 1,
          "metadata": {}
        },
        {
          "output_type": "execute_result",
          "data": {
            "text/plain": "The 24th term of the Fibonacci sequence is 28,657.\n"
          },
          "execution_count": 1,
          "metadata": {}
        },
        {
          "output_type": "execute_result",
          "data": {
            "text/plain": "The 25th term of the Fibonacci sequence is 46,368.\n"
          },
          "execution_count": 1,
          "metadata": {}
        },
        {
          "output_type": "execute_result",
          "data": {
            "text/plain": "The 26th term of the Fibonacci sequence is 75,025.\n"
          },
          "execution_count": 1,
          "metadata": {}
        },
        {
          "output_type": "execute_result",
          "data": {
            "text/plain": "The 27th term of the Fibonacci sequence is 121,393.\n"
          },
          "execution_count": 1,
          "metadata": {}
        },
        {
          "output_type": "execute_result",
          "data": {
            "text/plain": "The 28th term of the Fibonacci sequence is 196,418.\n"
          },
          "execution_count": 1,
          "metadata": {}
        },
        {
          "output_type": "execute_result",
          "data": {
            "text/plain": "The 29th term of the Fibonacci sequence is 317,811.\n"
          },
          "execution_count": 1,
          "metadata": {}
        },
        {
          "output_type": "execute_result",
          "data": {
            "text/plain": "The 30th term of the Fibonacci sequence is 514,229.\n"
          },
          "execution_count": 1,
          "metadata": {}
        }
      ]
    }
  ],
  "metadata": {
    "kernelspec": {
      "display_name": ".NET (C#)",
      "language": "C#",
      "name": ".net-csharp"
    },
    "language_info": {
      "file_extension": ".cs",
      "mimetype": "text/x-csharp",
      "name": "C#",
      "pygments_lexer": "csharp",
      "version": "8.0"
    }
  },
  "nbformat": 4,
  "nbformat_minor": 4
}