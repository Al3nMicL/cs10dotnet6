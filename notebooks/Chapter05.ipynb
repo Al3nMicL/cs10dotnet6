{
  "cells": [
    {
      "cell_type": "markdown",
      "metadata": {},
      "source": [
        "# Chapter 5 - Building Your Own Types with Object-Oriented Programming\n",
        "\n",
        "Execute the following code cell to make `Console` methods available in every code cell in this notebook."
      ]
    },
    {
      "cell_type": "code",
      "execution_count": 1,
      "metadata": {
        "dotnet_interactive": {
          "language": "csharp"
        }
      },
      "source": [
        "using static System.Console;"
      ],
      "outputs": []
    },
    {
      "cell_type": "markdown",
      "metadata": {},
      "source": [
        "## Storing a value using an enum type (defining the enum)"
      ]
    },
    {
      "cell_type": "code",
      "execution_count": 1,
      "metadata": {
        "dotnet_interactive": {
          "language": "csharp"
        }
      },
      "source": [
        "[System.Flags]\n",
        "public enum WondersOfTheAncientWorld : byte\n",
        "{\n",
        "  None = 0b_0000_0000, // i.e. 0\n",
        "  GreatPyramidOfGiza = 0b_0000_0001, // i.e. 1\n",
        "  HangingGardensOfBabylon = 0b_0000_0010, // i.e. 2\n",
        "  StatueOfZeusAtOlympia = 0b_0000_0100, // i.e. 4\n",
        "  TempleOfArtemisAtEphesus = 0b_0000_1000, // i.e. 8\n",
        "  MausoleumAtHalicarnassus = 0b_0001_0000, // i.e. 16\n",
        "  ColossusOfRhodes = 0b_0010_0000, // i.e. 32\n",
        "  LighthouseOfAlexandria = 0b_0100_0000  // i.e. 64\n",
        "}"
      ],
      "outputs": []
    },
    {
      "cell_type": "markdown",
      "metadata": {},
      "source": [
        "## Defining a class\n",
        "\n",
        ".NET Interactive notebooks do not support namespaces. You would get a \"Cannot declare namesapce in script code\" error. But we can declare a class."
      ]
    },
    {
      "cell_type": "markdown",
      "metadata": {},
      "source": [
        "## Storing a value using an enum type (using the enum)"
      ]
    },
    {
      "cell_type": "code",
      "execution_count": 1,
      "metadata": {
        "dotnet_interactive": {
          "language": "csharp"
        }
      },
      "source": [
        "public class Person : object\n",
        "{\n",
        "  // fields\n",
        "  public string Name;\n",
        "  public DateTime DateOfBirth;\n",
        "  public WondersOfTheAncientWorld FavoriteAncientWonder;\n",
        "  public WondersOfTheAncientWorld BucketList;\n",
        "}"
      ],
      "outputs": []
    },
    {
      "cell_type": "markdown",
      "metadata": {},
      "source": [
        "## Instantiating a class\n",
        "\n",
        "The namespace for a class defined in a .NET Interactive notebook follows the pattern `Submission#3+[classname]` if it is the third time a code cell has been submitted for execution in a notebook."
      ]
    },
    {
      "cell_type": "code",
      "execution_count": 1,
      "metadata": {
        "dotnet_interactive": {
          "language": "csharp"
        }
      },
      "source": [
        "// var bob = new Person(); // C# 1.0 or later\n",
        "Person bob = new(); // C# 9.0 or later\n",
        "WriteLine(bob.ToString());\n",
        "\n",
        "bob.Name = \"Bob Smith\";\n",
        "bob.DateOfBirth = new DateTime(1965, 12, 22); // C# 1.0 or later\n",
        "\n",
        "WriteLine(format: \"{0} was born on {1:dddd, d MMMM yyyy}\", \n",
        "  arg0: bob.Name,\n",
        "  arg1: bob.DateOfBirth);\n",
        "\n",
        "Person alice = new()\n",
        "{\n",
        "  Name = \"Alice Jones\",\n",
        "  DateOfBirth = new(1998, 3, 7) // C# 9.0 or later\n",
        "};\n",
        "\n",
        "WriteLine(format: \"{0} was born on {1:dd MMM yy}\",\n",
        "  arg0: alice.Name,\n",
        "  arg1: alice.DateOfBirth);\n",
        ""
      ],
      "outputs": [
        {
          "output_type": "execute_result",
          "data": {
            "text/plain": "Submission#32+Person\n"
          },
          "execution_count": 1,
          "metadata": {}
        },
        {
          "output_type": "execute_result",
          "data": {
            "text/plain": "Bob Smith was born on Wednesday, 22 December 1965\n"
          },
          "execution_count": 1,
          "metadata": {}
        },
        {
          "output_type": "execute_result",
          "data": {
            "text/plain": "Alice Jones was born on 07 Mar 98\n"
          },
          "execution_count": 1,
          "metadata": {}
        }
      ]
    },
    {
      "cell_type": "code",
      "execution_count": 1,
      "metadata": {
        "dotnet_interactive": {
          "language": "csharp"
        }
      },
      "source": [
        "bob.FavoriteAncientWonder = WondersOfTheAncientWorld.StatueOfZeusAtOlympia;\n",
        "\n",
        "WriteLine(\n",
        "  format: \"{0}'s favorite wonder is {1}. Its integer is {2}.\",\n",
        "  arg0: bob.Name,\n",
        "  arg1:  bob.FavoriteAncientWonder,\n",
        "  arg2: (int)bob.FavoriteAncientWonder);\n",
        "\n",
        "bob.BucketList = \n",
        "  WondersOfTheAncientWorld.HangingGardensOfBabylon\n",
        "  | WondersOfTheAncientWorld.MausoleumAtHalicarnassus;\n",
        "\n",
        "// bob.BucketList = (WondersOfTheAncientWorld)18;\n",
        "\n",
        "WriteLine($\"{bob.Name}'s bucket list is {bob.BucketList}\");\n",
        ""
      ],
      "outputs": [
        {
          "output_type": "execute_result",
          "data": {
            "text/plain": "Bob Smith's favorite wonder is StatueOfZeusAtOlympia. Its integer is 4.\n"
          },
          "execution_count": 1,
          "metadata": {}
        },
        {
          "output_type": "execute_result",
          "data": {
            "text/plain": "Bob Smith's bucket list is HangingGardensOfBabylon, MausoleumAtHalicarnassus\n"
          },
          "execution_count": 1,
          "metadata": {}
        }
      ]
    }
  ],
  "metadata": {
    "kernelspec": {
      "display_name": ".NET (C#)",
      "language": "C#",
      "name": ".net-csharp"
    },
    "language_info": {
      "file_extension": ".cs",
      "mimetype": "text/x-csharp",
      "name": "C#",
      "pygments_lexer": "csharp",
      "version": "8.0"
    }
  },
  "nbformat": 4,
  "nbformat_minor": 4
}