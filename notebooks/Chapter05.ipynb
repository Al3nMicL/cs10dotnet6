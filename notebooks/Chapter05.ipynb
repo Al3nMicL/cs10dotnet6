{
  "cells": [
    {
      "cell_type": "markdown",
      "metadata": {},
      "source": [
        "# Chapter 5 - Building Your Own Types with Object-Oriented Programming\n",
        "\n",
        "Execute the following code cell to make `Console` methods available in every code cell in this notebook."
      ]
    },
    {
      "cell_type": "code",
      "execution_count": 1,
      "metadata": {
        "dotnet_interactive": {
          "language": "csharp"
        }
      },
      "source": [
        "using static System.Console;\n",
        "using System.Collections.Generic;"
      ],
      "outputs": []
    },
    {
      "cell_type": "markdown",
      "metadata": {},
      "source": [
        "## Storing a value using an enum type (defining the enum)"
      ]
    },
    {
      "cell_type": "code",
      "execution_count": 1,
      "metadata": {
        "dotnet_interactive": {
          "language": "csharp"
        }
      },
      "source": [
        "[System.Flags]\n",
        "public enum WondersOfTheAncientWorld : byte\n",
        "{\n",
        "  None = 0b_0000_0000, // i.e. 0\n",
        "  GreatPyramidOfGiza = 0b_0000_0001, // i.e. 1\n",
        "  HangingGardensOfBabylon = 0b_0000_0010, // i.e. 2\n",
        "  StatueOfZeusAtOlympia = 0b_0000_0100, // i.e. 4\n",
        "  TempleOfArtemisAtEphesus = 0b_0000_1000, // i.e. 8\n",
        "  MausoleumAtHalicarnassus = 0b_0001_0000, // i.e. 16\n",
        "  ColossusOfRhodes = 0b_0010_0000, // i.e. 32\n",
        "  LighthouseOfAlexandria = 0b_0100_0000  // i.e. 64\n",
        "}"
      ],
      "outputs": []
    },
    {
      "cell_type": "markdown",
      "metadata": {},
      "source": [
        "## Defining a class\n",
        "\n",
        ".NET Interactive notebooks do not support namespaces. You would get a \"Cannot declare namesapce in script code\" error. But we can declare a class."
      ]
    },
    {
      "cell_type": "markdown",
      "metadata": {},
      "source": [
        "## Storing a value using an enum type (using the enum)"
      ]
    },
    {
      "cell_type": "code",
      "execution_count": 1,
      "metadata": {
        "dotnet_interactive": {
          "language": "csharp"
        }
      },
      "source": [
        "public class Person : object\n",
        "{\n",
        "  // fields\n",
        "  public string Name;\n",
        "  public DateTime DateOfBirth;\n",
        "  public WondersOfTheAncientWorld FavoriteAncientWonder;\n",
        "  public WondersOfTheAncientWorld BucketList;\n",
        "  public List<Person> Children = new();\n",
        "\n",
        "  // constants\n",
        "  public const string Species = \"Homo Sapien\";\n",
        "\n",
        "  // read-only fields\n",
        "  public readonly string HomePlanet = \"Earth\";\n",
        "  public readonly DateTime Instantiated;\n",
        "\n",
        "  // constructors\n",
        "  public Person()\n",
        "  {\n",
        "    // set default values for fields\n",
        "    // including read-only fields\n",
        "    Name = \"Unknown\"; \n",
        "    Instantiated = DateTime.Now;\n",
        "  }\n",
        "\n",
        "  public Person(string initialName, string homePlanet)\n",
        "  {\n",
        "    Name = initialName;\n",
        "    HomePlanet = homePlanet;\n",
        "    Instantiated = DateTime.Now;\n",
        "  }\n",
        "\n",
        "  // methods\n",
        "  public void WriteToConsole()\n",
        "  {\n",
        "    WriteLine($\"{Name} was born on a {DateOfBirth:dddd}.\");\n",
        "  }\n",
        "\n",
        "  public string GetOrigin()\n",
        "  {\n",
        "    return $\"{Name} was born on {HomePlanet}.\";\n",
        "  }\n",
        "\n",
        "  public (string, int) GetFruit()\n",
        "  {\n",
        "    return (\"Apples\", 5);\n",
        "  }\n",
        "\n",
        "  public (string Name, int Number) GetNamedFruit()\n",
        "  {\n",
        "    return (Name: \"Apples\", Number: 5);\n",
        "  }\n",
        "\n",
        "  public string SayHello()\n",
        "  {\n",
        "    return $\"{Name} says 'Hello!'\";\n",
        "  }\n",
        "\n",
        "  public string SayHello(string name)\n",
        "  {\n",
        "    return $\"{Name} says 'Hello {name}!'\";\n",
        "  }\n",
        "\n",
        "}"
      ],
      "outputs": []
    },
    {
      "cell_type": "markdown",
      "metadata": {},
      "source": [
        "## Instantiating a class\n",
        "\n",
        "The namespace for a class defined in a .NET Interactive notebook follows the pattern `Submission#3+[classname]` if it is the third time a code cell has been submitted for execution in a notebook."
      ]
    },
    {
      "cell_type": "code",
      "execution_count": 1,
      "metadata": {
        "dotnet_interactive": {
          "language": "csharp"
        }
      },
      "source": [
        "// var bob = new Person(); // C# 1.0 or later\n",
        "Person bob = new(); // C# 9.0 or later\n",
        "WriteLine(bob.ToString());\n",
        "\n",
        "bob.Name = \"Bob Smith\";\n",
        "bob.DateOfBirth = new DateTime(1965, 12, 22); // C# 1.0 or later\n",
        "\n",
        "WriteLine(format: \"{0} was born on {1:dddd, d MMMM yyyy}\", \n",
        "  arg0: bob.Name,\n",
        "  arg1: bob.DateOfBirth);\n",
        "\n",
        "Person alice = new()\n",
        "{\n",
        "  Name = \"Alice Jones\",\n",
        "  DateOfBirth = new(1998, 3, 7) // C# 9.0 or later\n",
        "};\n",
        "\n",
        "WriteLine(format: \"{0} was born on {1:dd MMM yy}\",\n",
        "  arg0: alice.Name,\n",
        "  arg1: alice.DateOfBirth);\n",
        ""
      ],
      "outputs": [
        {
          "output_type": "execute_result",
          "data": {
            "text/plain": "Submission#127+Person\n"
          },
          "execution_count": 1,
          "metadata": {}
        },
        {
          "output_type": "execute_result",
          "data": {
            "text/plain": "Bob Smith was born on Wednesday, 22 December 1965\n"
          },
          "execution_count": 1,
          "metadata": {}
        },
        {
          "output_type": "execute_result",
          "data": {
            "text/plain": "Alice Jones was born on 07 Mar 98\n"
          },
          "execution_count": 1,
          "metadata": {}
        }
      ]
    },
    {
      "cell_type": "code",
      "execution_count": 1,
      "metadata": {
        "dotnet_interactive": {
          "language": "csharp"
        }
      },
      "source": [
        "bob.FavoriteAncientWonder = WondersOfTheAncientWorld.StatueOfZeusAtOlympia;\n",
        "\n",
        "WriteLine(\n",
        "  format: \"{0}'s favorite wonder is {1}. Its integer is {2}.\",\n",
        "  arg0: bob.Name,\n",
        "  arg1:  bob.FavoriteAncientWonder,\n",
        "  arg2: (int)bob.FavoriteAncientWonder);\n",
        "\n",
        "bob.BucketList = \n",
        "  WondersOfTheAncientWorld.HangingGardensOfBabylon\n",
        "  | WondersOfTheAncientWorld.MausoleumAtHalicarnassus;\n",
        "\n",
        "// bob.BucketList = (WondersOfTheAncientWorld)18;\n",
        "\n",
        "WriteLine($\"{bob.Name}'s bucket list is {bob.BucketList}\");\n",
        ""
      ],
      "outputs": [
        {
          "output_type": "execute_result",
          "data": {
            "text/plain": "Bob Smith's favorite wonder is StatueOfZeusAtOlympia. Its integer is 4.\n"
          },
          "execution_count": 1,
          "metadata": {}
        },
        {
          "output_type": "execute_result",
          "data": {
            "text/plain": "Bob Smith's bucket list is HangingGardensOfBabylon, MausoleumAtHalicarnassus\n"
          },
          "execution_count": 1,
          "metadata": {}
        }
      ]
    },
    {
      "cell_type": "markdown",
      "metadata": {},
      "source": [
        "## Storing multiple values using collections"
      ]
    },
    {
      "cell_type": "code",
      "execution_count": 1,
      "metadata": {
        "dotnet_interactive": {
          "language": "csharp"
        }
      },
      "source": [
        "bob.Children.Add(new Person { Name = \"Alfred\" }); \n",
        "bob.Children.Add(new Person { Name = \"Zoe\" });\n",
        "\n",
        "WriteLine(\n",
        "  $\"{bob.Name} has {bob.Children.Count} children:\");\n",
        "\n",
        "for (int childIndex = 0; childIndex < bob.Children.Count; childIndex++)\n",
        "{\n",
        "  WriteLine($\"  {bob.Children[childIndex].Name}\");\n",
        "}"
      ],
      "outputs": [
        {
          "output_type": "execute_result",
          "data": {
            "text/plain": "Bob Smith has 2 children:\n"
          },
          "execution_count": 1,
          "metadata": {}
        },
        {
          "output_type": "execute_result",
          "data": {
            "text/plain": "  Alfred\n"
          },
          "execution_count": 1,
          "metadata": {}
        },
        {
          "output_type": "execute_result",
          "data": {
            "text/plain": "  Zoe\n"
          },
          "execution_count": 1,
          "metadata": {}
        }
      ]
    },
    {
      "cell_type": "markdown",
      "metadata": {},
      "source": [
        "## Making a field static"
      ]
    },
    {
      "cell_type": "code",
      "execution_count": 1,
      "metadata": {
        "dotnet_interactive": {
          "language": "csharp"
        }
      },
      "source": [
        "public class BankAccount\n",
        "{\n",
        "  public string AccountName; // instance member\n",
        "  public decimal Balance; // instance member\n",
        "  public static decimal InterestRate; // shared member\n",
        "}"
      ],
      "outputs": []
    },
    {
      "cell_type": "code",
      "execution_count": 1,
      "metadata": {
        "dotnet_interactive": {
          "language": "csharp"
        }
      },
      "source": [
        "BankAccount.InterestRate = 0.012M; // store a shared value\n",
        "\n",
        "var jonesAccount = new BankAccount(); \n",
        "jonesAccount.AccountName = \"Mrs. Jones\"; \n",
        "jonesAccount.Balance = 2400;\n",
        "\n",
        "WriteLine(format: \"{0} earned {1:C} interest.\",\n",
        "  arg0: jonesAccount.AccountName,\n",
        "  arg1: jonesAccount.Balance * BankAccount.InterestRate);\n",
        "\n",
        "var gerrierAccount = new BankAccount(); \n",
        "gerrierAccount.AccountName = \"Ms. Gerrier\"; \n",
        "gerrierAccount.Balance = 98;\n",
        "\n",
        "WriteLine(format: \"{0} earned {1:C} interest.\",\n",
        "  arg0: gerrierAccount.AccountName,\n",
        "  arg1: gerrierAccount.Balance * BankAccount.InterestRate);"
      ],
      "outputs": [
        {
          "output_type": "execute_result",
          "data": {
            "text/plain": "Mrs. Jones earned ¤28.80 interest.\n"
          },
          "execution_count": 1,
          "metadata": {}
        },
        {
          "output_type": "execute_result",
          "data": {
            "text/plain": "Ms. Gerrier earned ¤1.18 interest.\n"
          },
          "execution_count": 1,
          "metadata": {}
        }
      ]
    },
    {
      "cell_type": "markdown",
      "metadata": {},
      "source": [
        "## Making a field constant"
      ]
    },
    {
      "cell_type": "code",
      "execution_count": 1,
      "metadata": {
        "dotnet_interactive": {
          "language": "csharp"
        }
      },
      "source": [
        "WriteLine($\"{bob.Name} is a {Person.Species}\");"
      ],
      "outputs": [
        {
          "output_type": "execute_result",
          "data": {
            "text/plain": "Bob Smith is a Homo Sapien\n"
          },
          "execution_count": 1,
          "metadata": {}
        }
      ]
    },
    {
      "cell_type": "markdown",
      "metadata": {},
      "source": [
        "## Making a field read-only"
      ]
    },
    {
      "cell_type": "code",
      "execution_count": 1,
      "metadata": {
        "dotnet_interactive": {
          "language": "csharp"
        }
      },
      "source": [
        "WriteLine($\"{bob.Name} was born on {bob.HomePlanet}\");"
      ],
      "outputs": [
        {
          "output_type": "execute_result",
          "data": {
            "text/plain": "Bob Smith was born on Earth\n"
          },
          "execution_count": 1,
          "metadata": {}
        }
      ]
    },
    {
      "cell_type": "markdown",
      "metadata": {},
      "source": [
        "## Initializing fields with constructors"
      ]
    },
    {
      "cell_type": "code",
      "execution_count": 1,
      "metadata": {
        "dotnet_interactive": {
          "language": "csharp"
        }
      },
      "source": [
        "var blankPerson = new Person();\n",
        "\n",
        "WriteLine(format:\n",
        "  \"{0} of {1} was created at {2:hh:mm:ss} on a {2:dddd}.\",\n",
        "  arg0: blankPerson.Name,\n",
        "  arg1: blankPerson.HomePlanet,\n",
        "  arg2: blankPerson.Instantiated);"
      ],
      "outputs": [
        {
          "output_type": "execute_result",
          "data": {
            "text/plain": "Unknown of Earth was created at 10:00:56 on a Saturday.\n"
          },
          "execution_count": 1,
          "metadata": {}
        }
      ]
    },
    {
      "cell_type": "markdown",
      "metadata": {},
      "source": [
        "## Defining multiple constructors"
      ]
    },
    {
      "cell_type": "code",
      "execution_count": 1,
      "metadata": {
        "dotnet_interactive": {
          "language": "csharp"
        }
      },
      "source": [
        "var gunny = new Person(\"Gunny\", \"Mars\");\n",
        "\n",
        "WriteLine(format:\n",
        "  \"{0} of {1} was created at {2:hh:mm:ss} on a {2:dddd}.\",\n",
        "  arg0: gunny.Name,\n",
        "  arg1: gunny.HomePlanet,\n",
        "  arg2: gunny.Instantiated);"
      ],
      "outputs": [
        {
          "output_type": "execute_result",
          "data": {
            "text/plain": "Gunny of Mars was created at 10:00:56 on a Saturday.\n"
          },
          "execution_count": 1,
          "metadata": {}
        }
      ]
    },
    {
      "cell_type": "markdown",
      "metadata": {},
      "source": [
        "## Returning values from methods"
      ]
    },
    {
      "cell_type": "code",
      "execution_count": 1,
      "metadata": {
        "dotnet_interactive": {
          "language": "csharp"
        }
      },
      "source": [
        "bob.WriteToConsole(); \n",
        "WriteLine(bob.GetOrigin());"
      ],
      "outputs": [
        {
          "output_type": "execute_result",
          "data": {
            "text/plain": "Bob Smith was born on a Wednesday.\n"
          },
          "execution_count": 1,
          "metadata": {}
        },
        {
          "output_type": "execute_result",
          "data": {
            "text/plain": "Bob Smith was born on Earth.\n"
          },
          "execution_count": 1,
          "metadata": {}
        }
      ]
    },
    {
      "cell_type": "markdown",
      "metadata": {},
      "source": [
        "## Combining multiple returned values using tuples"
      ]
    },
    {
      "cell_type": "code",
      "execution_count": 1,
      "metadata": {
        "dotnet_interactive": {
          "language": "csharp"
        }
      },
      "source": [
        "public class TextAndNumber\n",
        "{\n",
        "  public string Text;\n",
        "  public int Number;\n",
        "}\n",
        "\n",
        "public class LifeTheUniverseAndEverything\n",
        "{\n",
        "  public TextAndNumber GetTheData()\n",
        "  {\n",
        "    return new TextAndNumber\n",
        "    {\n",
        "      Text = \"What's the meaning of life?\",\n",
        "      Number = 42\n",
        "    };\n",
        "  }\n",
        "}"
      ],
      "outputs": []
    },
    {
      "cell_type": "markdown",
      "metadata": {},
      "source": [
        "### Language support for tuples"
      ]
    },
    {
      "cell_type": "code",
      "execution_count": 1,
      "metadata": {
        "dotnet_interactive": {
          "language": "csharp"
        }
      },
      "source": [
        "(string, int) fruit = bob.GetFruit();\n",
        "\n",
        "WriteLine($\"{fruit.Item1}, {fruit.Item2} there are.\");"
      ],
      "outputs": [
        {
          "output_type": "execute_result",
          "data": {
            "text/plain": "Apples, 5 there are.\n"
          },
          "execution_count": 1,
          "metadata": {}
        }
      ]
    },
    {
      "cell_type": "markdown",
      "metadata": {},
      "source": [
        "### Naming the fields of a tuple"
      ]
    },
    {
      "cell_type": "code",
      "execution_count": 1,
      "metadata": {
        "dotnet_interactive": {
          "language": "csharp"
        }
      },
      "source": [
        "var fruitNamed = bob.GetNamedFruit();\n",
        "\n",
        "WriteLine($\"There are {fruitNamed.Number} {fruitNamed.Name}.\");"
      ],
      "outputs": [
        {
          "output_type": "execute_result",
          "data": {
            "text/plain": "There are 5 Apples.\n"
          },
          "execution_count": 1,
          "metadata": {}
        }
      ]
    },
    {
      "cell_type": "markdown",
      "metadata": {},
      "source": [
        "### Inferring tuple names"
      ]
    },
    {
      "cell_type": "code",
      "execution_count": 1,
      "metadata": {
        "dotnet_interactive": {
          "language": "csharp"
        }
      },
      "source": [
        "var thing1 = (\"Neville\", 4);\n",
        "WriteLine($\"{thing1.Item1} has {thing1.Item2} children.\");\n",
        "\n",
        "var thing2 = (bob.Name, bob.Children.Count); \n",
        "WriteLine($\"{thing2.Name} has {thing2.Count} children.\");"
      ],
      "outputs": [
        {
          "output_type": "execute_result",
          "data": {
            "text/plain": "Neville has 4 children.\n"
          },
          "execution_count": 1,
          "metadata": {}
        },
        {
          "output_type": "execute_result",
          "data": {
            "text/plain": "Bob Smith has 2 children.\n"
          },
          "execution_count": 1,
          "metadata": {}
        }
      ]
    },
    {
      "cell_type": "markdown",
      "metadata": {},
      "source": [
        "### Deconstructing tuples"
      ]
    },
    {
      "cell_type": "code",
      "execution_count": 1,
      "metadata": {
        "dotnet_interactive": {
          "language": "csharp"
        }
      },
      "source": [
        "(string fruitName, int fruitNumber) = bob.GetFruit();\n",
        "\n",
        "WriteLine($\"Deconstructed: {fruitName}, {fruitNumber}\");"
      ],
      "outputs": [
        {
          "output_type": "execute_result",
          "data": {
            "text/plain": "Deconstructed: Apples, 5\n"
          },
          "execution_count": 1,
          "metadata": {}
        }
      ]
    },
    {
      "cell_type": "markdown",
      "metadata": {},
      "source": [
        "## Defining and passing parameters to methods"
      ]
    },
    {
      "cell_type": "code",
      "execution_count": 1,
      "metadata": {
        "dotnet_interactive": {
          "language": "csharp"
        }
      },
      "source": [
        "WriteLine(bob.SayHello());\n",
        "WriteLine(bob.SayHello(\"Emily\"));"
      ],
      "outputs": [
        {
          "output_type": "execute_result",
          "data": {
            "text/plain": "Bob Smith says 'Hello!'\n"
          },
          "execution_count": 1,
          "metadata": {}
        },
        {
          "output_type": "execute_result",
          "data": {
            "text/plain": "Bob Smith says 'Hello Emily!'\n"
          },
          "execution_count": 1,
          "metadata": {}
        }
      ]
    }
  ],
  "metadata": {
    "kernelspec": {
      "display_name": ".NET (C#)",
      "language": "C#",
      "name": ".net-csharp"
    },
    "language_info": {
      "file_extension": ".cs",
      "mimetype": "text/x-csharp",
      "name": "C#",
      "pygments_lexer": "csharp",
      "version": "8.0"
    }
  },
  "nbformat": 4,
  "nbformat_minor": 4
}