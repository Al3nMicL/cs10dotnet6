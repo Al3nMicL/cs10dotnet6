{
  "cells": [
    {
      "cell_type": "markdown",
      "metadata": {},
      "source": [
        "# Variables"
      ]
    },
    {
      "cell_type": "markdown",
      "metadata": {},
      "source": [
        "## Storing any type of object"
      ]
    },
    {
      "cell_type": "code",
      "execution_count": 1,
      "metadata": {
        "dotnet_interactive": {
          "language": "csharp"
        }
      },
      "source": [
        "object height = 1.88; // storing a double in an object \n",
        "object name = \"Amir\"; // storing a string in an object\n",
        "Console.WriteLine($\"{name} is {height} metres tall.\");\n",
        "\n",
        "//int length1 = name.Length; // gives compile error!\n",
        "int length2 = ((string)name).Length; // tell compiler it is a string\n",
        "Console.WriteLine($\"{name} has {length2} characters.\");"
      ],
      "outputs": [
        {
          "output_type": "execute_result",
          "data": {
            "text/plain": "Amir is 1.88 metres tall.\n"
          },
          "execution_count": 1,
          "metadata": {}
        },
        {
          "output_type": "execute_result",
          "data": {
            "text/plain": "Amir has 4 characters.\n"
          },
          "execution_count": 1,
          "metadata": {}
        }
      ]
    },
    {
      "cell_type": "markdown",
      "metadata": {},
      "source": [
        "## Storing dynamic types"
      ]
    },
    {
      "cell_type": "code",
      "execution_count": 1,
      "metadata": {
        "dotnet_interactive": {
          "language": "csharp"
        }
      },
      "source": [
        "// storing a string in a dynamic object\n",
        "// string has a Length property\n",
        "dynamic anotherName = \"Ahmed\";\n",
        "\n",
        "// int does not have a Length property\n",
        "anotherName = 12;\n",
        "\n",
        "// an array of any type has a Length property\n",
        "anotherName = new[] { 3, 5, 7 };\n",
        "\n",
        "// this compiles but would throw an exception at run-time\n",
        "// if you later store a data type that does not have a\n",
        "// property named Length\n",
        "Console.WriteLine($\"Length is {anotherName.Length}\");"
      ],
      "outputs": [
        {
          "output_type": "execute_result",
          "data": {
            "text/plain": "Length is 3\n"
          },
          "execution_count": 1,
          "metadata": {}
        }
      ]
    },
    {
      "cell_type": "markdown",
      "metadata": {},
      "source": [
        "## Specifying and inferring the type of a local variable\n",
        "\n",
        "*Note*: click **Execute Code** in the following cell to import the namespaces for the subsequent code cell."
      ]
    },
    {
      "cell_type": "code",
      "execution_count": 1,
      "metadata": {
        "dotnet_interactive": {
          "language": "csharp"
        }
      },
      "source": [
        "using System.IO;\n",
        "using System.Xml;"
      ],
      "outputs": []
    },
    {
      "cell_type": "code",
      "execution_count": 1,
      "metadata": {
        "dotnet_interactive": {
          "language": "csharp"
        }
      },
      "source": [
        "var population = 66_000_000; // 66 million in UK\n",
        "var weight = 1.88; // in kilograms\n",
        "var price = 4.99M; // in pounds sterling\n",
        "var fruit = \"Apples\"; // strings use double-quotes\n",
        "var letter = 'Z'; // chars use single-quotes\n",
        "var happy = true; // Booleans have value of true or false\n",
        "\n",
        "// good use of var because it avoids the repeated type\n",
        "// as shown in the more verbose second statement\n",
        "var xml1 = new XmlDocument(); \n",
        "XmlDocument xml2 = new XmlDocument();\n",
        "\n",
        "// bad use of var because we cannot tell the type, so we\n",
        "// should use a specific type declaration as shown in\n",
        "// the second statement\n",
        "var file1 = File.CreateText(@\"C:\\something.txt\"); \n",
        "StreamWriter file2 = File.CreateText(@\"C:\\something.txt\");\n",
        "\n",
        "XmlDocument xml3 = new(); // target-typed new in C# 9 or later"
      ],
      "outputs": []
    },
    {
      "cell_type": "markdown",
      "metadata": {},
      "source": [
        "## Getting default values for types\n",
        "\n",
        "The default value of a `string` is `null` which outputs as nothing."
      ]
    },
    {
      "cell_type": "code",
      "execution_count": 1,
      "metadata": {
        "dotnet_interactive": {
          "language": "csharp"
        }
      },
      "source": [
        "Console.WriteLine($\"default(int) = {default(int)}\"); \n",
        "Console.WriteLine($\"default(bool) = {default(bool)}\"); \n",
        "Console.WriteLine(\n",
        "  $\"default(DateTime) = {default(DateTime)}\"); \n",
        "Console.WriteLine(\n",
        "  $\"default(string) = {default(string)}\");"
      ],
      "outputs": [
        {
          "output_type": "execute_result",
          "data": {
            "text/plain": "default(int) = 0\n"
          },
          "execution_count": 1,
          "metadata": {}
        },
        {
          "output_type": "execute_result",
          "data": {
            "text/plain": "default(bool) = False\n"
          },
          "execution_count": 1,
          "metadata": {}
        },
        {
          "output_type": "execute_result",
          "data": {
            "text/plain": "default(DateTime) = 01/01/0001 00:00:00\n"
          },
          "execution_count": 1,
          "metadata": {}
        },
        {
          "output_type": "execute_result",
          "data": {
            "text/plain": "default(string) = \n"
          },
          "execution_count": 1,
          "metadata": {}
        }
      ]
    },
    {
      "cell_type": "markdown",
      "metadata": {},
      "source": [
        "## Storing multiple values an array"
      ]
    },
    {
      "cell_type": "code",
      "execution_count": 1,
      "metadata": {
        "dotnet_interactive": {
          "language": "csharp"
        }
      },
      "source": [
        "string[] names; // can reference any array of strings\n",
        "\n",
        "// allocating memory for four strings in an array\n",
        "names = new string[4];\n",
        "\n",
        "// storing items at index positions\n",
        "names[0] = \"Kate\";\n",
        "names[1] = \"Jack\"; \n",
        "names[2] = \"Rebecca\"; \n",
        "names[3] = \"Tom\";\n",
        "\n",
        "// looping through the names\n",
        "for (int i = 0; i < names.Length; i++)\n",
        "{\n",
        "  // output the item at index position i\n",
        "  Console.WriteLine(names[i]);\n",
        "}"
      ],
      "outputs": [
        {
          "output_type": "execute_result",
          "data": {
            "text/plain": "Kate\n"
          },
          "execution_count": 1,
          "metadata": {}
        },
        {
          "output_type": "execute_result",
          "data": {
            "text/plain": "Jack\n"
          },
          "execution_count": 1,
          "metadata": {}
        },
        {
          "output_type": "execute_result",
          "data": {
            "text/plain": "Rebecca\n"
          },
          "execution_count": 1,
          "metadata": {}
        },
        {
          "output_type": "execute_result",
          "data": {
            "text/plain": "Tom\n"
          },
          "execution_count": 1,
          "metadata": {}
        }
      ]
    }
  ],
  "metadata": {
    "kernelspec": {
      "display_name": ".NET (C#)",
      "language": "C#",
      "name": ".net-csharp"
    },
    "language_info": {
      "file_extension": ".cs",
      "mimetype": "text/x-csharp",
      "name": "C#",
      "pygments_lexer": "csharp",
      "version": "8.0"
    }
  },
  "nbformat": 4,
  "nbformat_minor": 4
}