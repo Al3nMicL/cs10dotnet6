{
  "cells": [
    {
      "cell_type": "markdown",
      "metadata": {},
      "source": [
        "# Formatting"
      ]
    },
    {
      "cell_type": "code",
      "execution_count": 1,
      "metadata": {
        "dotnet_interactive": {
          "language": "csharp"
        }
      },
      "source": [
        "using static System.Console;"
      ],
      "outputs": []
    },
    {
      "cell_type": "markdown",
      "metadata": {},
      "source": [
        "## Formatting using numbered positional arguments"
      ]
    },
    {
      "cell_type": "code",
      "execution_count": 1,
      "metadata": {
        "dotnet_interactive": {
          "language": "csharp"
        }
      },
      "source": [
        "int numberOfApples = 12; \n",
        "decimal pricePerApple = 0.35M;\n",
        "\n",
        "WriteLine(\n",
        "  format: \"{0} apples costs {1:C}\", \n",
        "  arg0: numberOfApples,\n",
        "  arg1: pricePerApple * numberOfApples);\n",
        "\n",
        "string formatted = string.Format(\n",
        "  format: \"{0} apples costs {1:C}\",\n",
        "  arg0: numberOfApples,\n",
        "  arg1: pricePerApple * numberOfApples);\n",
        "\n",
        "//WriteToFile(formatted); // writes the string into a file"
      ],
      "outputs": [
        {
          "output_type": "execute_result",
          "data": {
            "text/plain": "12 apples costs ¤4.20\n"
          },
          "execution_count": 1,
          "metadata": {}
        }
      ]
    },
    {
      "cell_type": "markdown",
      "metadata": {},
      "source": [
        "## Formatting using interpolated strings"
      ]
    },
    {
      "cell_type": "code",
      "execution_count": 1,
      "metadata": {
        "dotnet_interactive": {
          "language": "csharp"
        }
      },
      "source": [
        "WriteLine($\"{numberOfApples} apples costs {pricePerApple * numberOfApples:C}\");"
      ],
      "outputs": [
        {
          "output_type": "execute_result",
          "data": {
            "text/plain": "12 apples costs ¤4.20\n"
          },
          "execution_count": 1,
          "metadata": {}
        }
      ]
    },
    {
      "cell_type": "markdown",
      "metadata": {},
      "source": [
        "## Understanding format strings"
      ]
    },
    {
      "cell_type": "code",
      "execution_count": 1,
      "metadata": {
        "dotnet_interactive": {
          "language": "csharp"
        }
      },
      "source": [
        "string applesText = \"Apples\"; \n",
        "int applesCount = 1234;\n",
        "\n",
        "string bananasText = \"Bananas\"; \n",
        "int bananasCount = 56789;\n",
        "\n",
        "WriteLine(\n",
        "  format: \"{0,-8} {1,6:N0}\",\n",
        "  arg0: \"Name\",\n",
        "  arg1: \"Count\");\n",
        "\n",
        "WriteLine(\n",
        "  format: \"{0,-8} {1,6:N0}\",\n",
        "  arg0: applesText,\n",
        "  arg1: applesCount);\n",
        "\n",
        "WriteLine(\n",
        "  format: \"{0,-8} {1,6:N0}\",\n",
        "  arg0: bananasText,\n",
        "  arg1: bananasCount);"
      ],
      "outputs": [
        {
          "output_type": "execute_result",
          "data": {
            "text/plain": "Name      Count\n"
          },
          "execution_count": 1,
          "metadata": {}
        },
        {
          "output_type": "execute_result",
          "data": {
            "text/plain": "Apples    1,234\n"
          },
          "execution_count": 1,
          "metadata": {}
        },
        {
          "output_type": "execute_result",
          "data": {
            "text/plain": "Bananas  56,789\n"
          },
          "execution_count": 1,
          "metadata": {}
        }
      ]
    },
    {
      "cell_type": "markdown",
      "metadata": {},
      "source": [
        "## Getting text input from the user\n",
        "\n",
        ".NET Interactive notebooks do not support `Readline()` so in the following code we must set literal string values for the two variables."
      ]
    },
    {
      "cell_type": "code",
      "execution_count": 1,
      "metadata": {
        "dotnet_interactive": {
          "language": "csharp"
        }
      },
      "source": [
        "Write(\"Type your first name and press ENTER: \"); \n",
        "string firstName = \"Gary\"; \n",
        "\n",
        "Write(\"Type your age and press ENTER: \"); \n",
        "string age = \"34\";\n",
        "\n",
        "WriteLine(\n",
        "  $\"Hello {firstName}, you look good for {age}.\");"
      ],
      "outputs": [
        {
          "output_type": "execute_result",
          "data": {
            "text/plain": "Type your first name and press ENTER: "
          },
          "execution_count": 1,
          "metadata": {}
        },
        {
          "output_type": "execute_result",
          "data": {
            "text/plain": "Type your age and press ENTER: "
          },
          "execution_count": 1,
          "metadata": {}
        },
        {
          "output_type": "execute_result",
          "data": {
            "text/plain": "Hello Gary, you look good for 34.\n"
          },
          "execution_count": 1,
          "metadata": {}
        }
      ]
    },
    {
      "cell_type": "markdown",
      "metadata": {},
      "source": [
        "## Getting key input from the user"
      ]
    },
    {
      "cell_type": "code",
      "execution_count": 1,
      "metadata": {
        "dotnet_interactive": {
          "language": "csharp"
        }
      },
      "source": [
        ""
      ],
      "outputs": []
    }
  ],
  "metadata": {
    "kernelspec": {
      "display_name": ".NET (C#)",
      "language": "C#",
      "name": ".net-csharp"
    },
    "language_info": {
      "file_extension": ".cs",
      "mimetype": "text/x-csharp",
      "name": "C#",
      "pygments_lexer": "csharp",
      "version": "8.0"
    }
  },
  "nbformat": 4,
  "nbformat_minor": 4
}